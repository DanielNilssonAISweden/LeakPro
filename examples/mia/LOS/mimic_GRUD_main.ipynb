{
 "cells": [
  {
   "cell_type": "markdown",
   "metadata": {},
   "source": [
    "# MIA attacks on Length-of-Stay predictor, Gated Recurrent Unit with Decay (GRU-D)\n",
    "## Installation of Packages in Conda\n",
    "\n",
    "To install the required packages in your conda environment, you can use the following commands:\n",
    "\n",
    "```bash\n",
    "conda install h5py\n",
    "conda install pytables"
   ]
  },
  {
   "cell_type": "code",
   "execution_count": 1,
   "metadata": {},
   "outputs": [],
   "source": [
    "%reload_ext autoreload\n",
    "%autoreload 2"
   ]
  },
  {
   "cell_type": "code",
   "execution_count": 2,
   "metadata": {},
   "outputs": [],
   "source": [
    "import os\n",
    "import sys\n",
    "\n",
    "from torch import zeros\n",
    "\n",
    "project_root = os.path.abspath(os.path.join(os.getcwd(), \"../../..\"))\n",
    "sys.path.append(project_root)\n",
    "\n",
    "from utils.data_processing import get_mimic_dataloaders, get_mimic_dataset"
   ]
  },
  {
   "cell_type": "markdown",
   "metadata": {},
   "source": [
    "The  `batch_size` is one of the parameters which is assigned based on hyperparameter tuning as detailed in [this notebook](https://github.com/MLforHealth/MIMIC_Extract/blob/4daf3c89be7de05d26f47819d68d5532de6f753a/notebooks/Baselines%20for%20Mortality%20and%20LOS%20prediction%20-%20GRU-D.ipynb)."
   ]
  },
  {
   "cell_type": "code",
   "execution_count": 3,
   "metadata": {},
   "outputs": [
    {
     "name": "stdout",
     "output_type": "stream",
     "text": [
      "Loading dataset...\n",
      "Loaded dataset from /home/fazeleh/LeakPro/examples/mia/LOS/data/GRUD_data/dataset.pkl\n"
     ]
    }
   ],
   "source": [
    "# Generate the dataset and dataloaders\n",
    "path = os.path.join(os.getcwd(), \"data/\")\n",
    "\n",
    "train_frac = 0.4\n",
    "valid_frac = 0.0\n",
    "test_frac = 0.0\n",
    "early_stop_frac = 0.4\n",
    "batch_size = 74\n",
    "use_LR = False # True if you want to use the LR model, False if you want to use the GRUD model\n",
    "\n",
    "dataset, train_indices, validation_indices, test_indices, early_stop_indices= get_mimic_dataset(path,\n",
    "                                                                            train_frac ,\n",
    "                                                                            valid_frac,\n",
    "                                                                            test_frac,\n",
    "                                                                            early_stop_frac,\n",
    "                                                                            use_LR)"
   ]
  },
  {
   "cell_type": "code",
   "execution_count": 4,
   "metadata": {},
   "outputs": [],
   "source": [
    "train_loader, validation_loader, test_loader, early_stop_loader = get_mimic_dataloaders(dataset,\n",
    "                                                            train_indices,\n",
    "                                                            validation_indices,\n",
    "                                                            test_indices,\n",
    "                                                            early_stop_indices,\n",
    "                                                            batch_size)"
   ]
  },
  {
   "cell_type": "markdown",
   "metadata": {},
   "source": [
    "The `optimized_hyperparams` is assigned based on hyperparameter tuning as detailed in [this notebook](https://github.com/MLforHealth/MIMIC_Extract/blob/4daf3c89be7de05d26f47819d68d5532de6f753a/notebooks/Baselines%20for%20Mortality%20and%20LOS%20prediction%20-%20GRU-D.ipynb)."
   ]
  },
  {
   "cell_type": "code",
   "execution_count": 12,
   "metadata": {},
   "outputs": [],
   "source": [
    "optimized_hyperparams ={\n",
    "    \"hidden_size\": 27,\n",
    "    \"learning_rate\": 0.000289,\n",
    "    \"num_epochs\":40,\n",
    "    \"patience_early_stopping\": 40,\n",
    "    \"patience_lr_scheduler\": 2,\n",
    "    \"batch_size\": 74,\n",
    "    \"seed\": 6286,\n",
    "    \"min_delta\": 0.00001,\n",
    "    }\n",
    "\n",
    "n_features = int(dataset.x.shape[1]/3)\n",
    "X_mean = zeros(1,dataset.x.shape[2],n_features)\n",
    "\n",
    "# Add other required parameters to model_params\n",
    "model_params = {\n",
    "    \"hidden_size\": optimized_hyperparams[\"hidden_size\"],\n",
    "    \"batch_size\": optimized_hyperparams[\"batch_size\"],\n",
    "    \"input_size\": n_features,\n",
    "    \"X_mean\": X_mean,\n",
    "    \"output_last\": False,\n",
    "    \"bn_flag\": True,\n",
    "}"
   ]
  },
  {
   "cell_type": "code",
   "execution_count": 19,
   "metadata": {},
   "outputs": [
    {
     "name": "stdout",
     "output_type": "stream",
     "text": [
      "Model Structure:  GRUD(\n",
      "  (zl): Linear(in_features=235, out_features=27, bias=True)\n",
      "  (rl): Linear(in_features=235, out_features=27, bias=True)\n",
      "  (hl): Linear(in_features=235, out_features=27, bias=True)\n",
      "  (gamma_x_l): FilterLinear(in_features=104, out_features=104, bias=True)\n",
      "  (gamma_h_l): Linear(in_features=104, out_features=27, bias=True)\n",
      "  (fc): Linear(in_features=27, out_features=1, bias=True)\n",
      "  (drop): Dropout(p=0.57, inplace=False)\n",
      "  (bn): BatchNorm1d(27, eps=1e-05, momentum=0.1, affine=True, track_running_stats=True)\n",
      ")\n",
      "Start Training ... \n",
      "Output type dermined by the model\n"
     ]
    },
    {
     "name": "stderr",
     "output_type": "stream",
     "text": [
      "Training Batches: 100%|██████████| 130/130 [00:05<00:00, 23.76it/s]\n",
      "Test Batches: 100%|██████████| 130/130 [00:02<00:00, 62.34it/s]\n",
      "Training Progress:   2%|▎         | 1/40 [00:07<04:55,  7.57s/it]"
     ]
    },
    {
     "name": "stdout",
     "output_type": "stream",
     "text": [
      "Epoch 0: Validation loss improved to 0.6170\n",
      "Learning Rate: 0.000500000000\n",
      "Epoch: 0, train_loss: 0.66568501, valid_loss: 0.61697723\n"
     ]
    },
    {
     "name": "stderr",
     "output_type": "stream",
     "text": [
      "Training Batches: 100%|██████████| 130/130 [00:05<00:00, 23.67it/s]\n",
      "Test Batches: 100%|██████████| 130/130 [00:02<00:00, 62.08it/s]\n",
      "Training Progress:   5%|▌         | 2/40 [00:15<04:48,  7.58s/it]"
     ]
    },
    {
     "name": "stdout",
     "output_type": "stream",
     "text": [
      "Epoch 1: Validation loss improved to 0.6072\n",
      "Learning Rate: 0.000500000000\n",
      "Epoch: 1, train_loss: 0.62216095, valid_loss: 0.60724866\n"
     ]
    },
    {
     "name": "stderr",
     "output_type": "stream",
     "text": [
      "Training Batches: 100%|██████████| 130/130 [00:05<00:00, 23.67it/s]\n",
      "Test Batches: 100%|██████████| 130/130 [00:02<00:00, 61.96it/s]\n",
      "Training Progress:   8%|▊         | 3/40 [00:22<04:40,  7.59s/it]"
     ]
    },
    {
     "name": "stdout",
     "output_type": "stream",
     "text": [
      "Epoch 2: Validation loss improved to 0.6050\n",
      "Learning Rate: 0.000500000000\n",
      "Epoch: 2, train_loss: 0.61024459, valid_loss: 0.60502248\n"
     ]
    },
    {
     "name": "stderr",
     "output_type": "stream",
     "text": [
      "Training Batches: 100%|██████████| 130/130 [00:05<00:00, 23.75it/s]\n",
      "Test Batches: 100%|██████████| 130/130 [00:02<00:00, 61.31it/s]\n",
      "Training Progress:  10%|█         | 4/40 [00:30<04:33,  7.60s/it]"
     ]
    },
    {
     "name": "stdout",
     "output_type": "stream",
     "text": [
      "Epoch 3: No improvement. Patience counter: 1/20\n",
      "Learning Rate: 0.000500000000\n",
      "Epoch: 3, train_loss: 0.59753617, valid_loss: 0.60579373\n"
     ]
    },
    {
     "name": "stderr",
     "output_type": "stream",
     "text": [
      "Training Batches: 100%|██████████| 130/130 [00:05<00:00, 23.70it/s]\n",
      "Test Batches: 100%|██████████| 130/130 [00:02<00:00, 61.61it/s]\n",
      "Training Progress:  12%|█▎        | 5/40 [00:37<04:25,  7.60s/it]"
     ]
    },
    {
     "name": "stdout",
     "output_type": "stream",
     "text": [
      "Epoch 4: No improvement. Patience counter: 2/20\n",
      "Learning Rate: 0.000500000000\n",
      "Epoch: 4, train_loss: 0.59096485, valid_loss: 0.60598142\n"
     ]
    },
    {
     "name": "stderr",
     "output_type": "stream",
     "text": [
      "Training Batches: 100%|██████████| 130/130 [00:05<00:00, 23.66it/s]\n",
      "Test Batches: 100%|██████████| 130/130 [00:02<00:00, 61.45it/s]\n",
      "Training Progress:  15%|█▌        | 6/40 [00:45<04:18,  7.61s/it]"
     ]
    },
    {
     "name": "stdout",
     "output_type": "stream",
     "text": [
      "Epoch 5: No improvement. Patience counter: 3/20\n",
      "Learning Rate: 0.000100000000\n",
      "Epoch: 5, train_loss: 0.58535103, valid_loss: 0.60800559\n"
     ]
    },
    {
     "name": "stderr",
     "output_type": "stream",
     "text": [
      "Training Batches: 100%|██████████| 130/130 [00:05<00:00, 23.68it/s]\n",
      "Test Batches: 100%|██████████| 130/130 [00:02<00:00, 62.23it/s]\n",
      "Training Progress:  18%|█▊        | 7/40 [00:53<04:10,  7.60s/it]"
     ]
    },
    {
     "name": "stdout",
     "output_type": "stream",
     "text": [
      "Epoch 6: No improvement. Patience counter: 4/20\n",
      "Learning Rate: 0.000100000000\n",
      "Epoch: 6, train_loss: 0.57448066, valid_loss: 0.6082431\n"
     ]
    },
    {
     "name": "stderr",
     "output_type": "stream",
     "text": [
      "Training Batches: 100%|██████████| 130/130 [00:05<00:00, 23.91it/s]\n",
      "Test Batches: 100%|██████████| 130/130 [00:02<00:00, 62.83it/s]\n",
      "Training Progress:  20%|██        | 8/40 [01:00<04:02,  7.57s/it]"
     ]
    },
    {
     "name": "stdout",
     "output_type": "stream",
     "text": [
      "Epoch 7: No improvement. Patience counter: 5/20\n",
      "Learning Rate: 0.000100000000\n",
      "Epoch: 7, train_loss: 0.57543729, valid_loss: 0.60909711\n"
     ]
    },
    {
     "name": "stderr",
     "output_type": "stream",
     "text": [
      "Training Batches: 100%|██████████| 130/130 [00:05<00:00, 23.74it/s]\n",
      "Test Batches: 100%|██████████| 130/130 [00:02<00:00, 62.62it/s]\n",
      "Training Progress:  22%|██▎       | 9/40 [01:08<03:54,  7.57s/it]"
     ]
    },
    {
     "name": "stdout",
     "output_type": "stream",
     "text": [
      "Epoch 8: No improvement. Patience counter: 6/20\n",
      "Learning Rate: 0.000020000000\n",
      "Epoch: 8, train_loss: 0.57180455, valid_loss: 0.60942231\n"
     ]
    },
    {
     "name": "stderr",
     "output_type": "stream",
     "text": [
      "Training Batches: 100%|██████████| 130/130 [00:05<00:00, 23.82it/s]\n",
      "Test Batches: 100%|██████████| 130/130 [00:02<00:00, 61.27it/s]\n",
      "Training Progress:  25%|██▌       | 10/40 [01:15<03:47,  7.57s/it]"
     ]
    },
    {
     "name": "stdout",
     "output_type": "stream",
     "text": [
      "Epoch 9: No improvement. Patience counter: 7/20\n",
      "Learning Rate: 0.000020000000\n",
      "Epoch: 9, train_loss: 0.56852016, valid_loss: 0.60966239\n"
     ]
    },
    {
     "name": "stderr",
     "output_type": "stream",
     "text": [
      "Training Batches: 100%|██████████| 130/130 [00:05<00:00, 23.74it/s]\n",
      "Test Batches: 100%|██████████| 130/130 [00:02<00:00, 62.58it/s]\n",
      "Training Progress:  28%|██▊       | 11/40 [01:23<03:39,  7.57s/it]"
     ]
    },
    {
     "name": "stdout",
     "output_type": "stream",
     "text": [
      "Epoch 10: No improvement. Patience counter: 8/20\n",
      "Learning Rate: 0.000020000000\n",
      "Epoch: 10, train_loss: 0.56626237, valid_loss: 0.60988514\n"
     ]
    },
    {
     "name": "stderr",
     "output_type": "stream",
     "text": [
      "Training Batches: 100%|██████████| 130/130 [00:05<00:00, 23.62it/s]\n",
      "Test Batches: 100%|██████████| 130/130 [00:02<00:00, 61.74it/s]\n",
      "Training Progress:  30%|███       | 12/40 [01:31<03:32,  7.58s/it]"
     ]
    },
    {
     "name": "stdout",
     "output_type": "stream",
     "text": [
      "Epoch 11: No improvement. Patience counter: 9/20\n",
      "Learning Rate: 0.000004000000\n",
      "Epoch: 11, train_loss: 0.5678158, valid_loss: 0.61012136\n"
     ]
    },
    {
     "name": "stderr",
     "output_type": "stream",
     "text": [
      "Training Batches: 100%|██████████| 130/130 [00:05<00:00, 23.63it/s]\n",
      "Test Batches: 100%|██████████| 130/130 [00:02<00:00, 61.36it/s]\n",
      "Training Progress:  32%|███▎      | 13/40 [01:38<03:25,  7.60s/it]"
     ]
    },
    {
     "name": "stdout",
     "output_type": "stream",
     "text": [
      "Epoch 12: No improvement. Patience counter: 10/20\n",
      "Learning Rate: 0.000004000000\n",
      "Epoch: 12, train_loss: 0.56695123, valid_loss: 0.6103528\n"
     ]
    },
    {
     "name": "stderr",
     "output_type": "stream",
     "text": [
      "Training Batches: 100%|██████████| 130/130 [00:05<00:00, 23.61it/s]\n",
      "Test Batches: 100%|██████████| 130/130 [00:02<00:00, 62.15it/s]\n",
      "Training Progress:  35%|███▌      | 14/40 [01:46<03:17,  7.60s/it]"
     ]
    },
    {
     "name": "stdout",
     "output_type": "stream",
     "text": [
      "Epoch 13: No improvement. Patience counter: 11/20\n",
      "Learning Rate: 0.000004000000\n",
      "Epoch: 13, train_loss: 0.56707922, valid_loss: 0.61018833\n"
     ]
    },
    {
     "name": "stderr",
     "output_type": "stream",
     "text": [
      "Training Batches: 100%|██████████| 130/130 [00:05<00:00, 23.64it/s]\n",
      "Test Batches: 100%|██████████| 130/130 [00:02<00:00, 61.91it/s]\n",
      "Training Progress:  38%|███▊      | 15/40 [01:53<03:10,  7.60s/it]"
     ]
    },
    {
     "name": "stdout",
     "output_type": "stream",
     "text": [
      "Epoch 14: No improvement. Patience counter: 12/20\n",
      "Learning Rate: 0.000000800000\n",
      "Epoch: 14, train_loss: 0.56858891, valid_loss: 0.61014672\n"
     ]
    },
    {
     "name": "stderr",
     "output_type": "stream",
     "text": [
      "Training Batches: 100%|██████████| 130/130 [00:05<00:00, 23.75it/s]\n",
      "Test Batches: 100%|██████████| 130/130 [00:02<00:00, 61.76it/s]\n",
      "Training Progress:  40%|████      | 16/40 [02:01<03:02,  7.60s/it]"
     ]
    },
    {
     "name": "stdout",
     "output_type": "stream",
     "text": [
      "Epoch 15: No improvement. Patience counter: 13/20\n",
      "Learning Rate: 0.000000800000\n",
      "Epoch: 15, train_loss: 0.56836521, valid_loss: 0.6104188\n"
     ]
    },
    {
     "name": "stderr",
     "output_type": "stream",
     "text": [
      "Training Batches: 100%|██████████| 130/130 [00:05<00:00, 23.65it/s]\n",
      "Test Batches: 100%|██████████| 130/130 [00:02<00:00, 61.01it/s]\n",
      "Training Progress:  42%|████▎     | 17/40 [02:09<02:54,  7.61s/it]"
     ]
    },
    {
     "name": "stdout",
     "output_type": "stream",
     "text": [
      "Epoch 16: No improvement. Patience counter: 14/20\n",
      "Learning Rate: 0.000000800000\n",
      "Epoch: 16, train_loss: 0.56521655, valid_loss: 0.61037337\n"
     ]
    },
    {
     "name": "stderr",
     "output_type": "stream",
     "text": [
      "Training Batches: 100%|██████████| 130/130 [00:05<00:00, 23.67it/s]\n",
      "Test Batches: 100%|██████████| 130/130 [00:02<00:00, 61.63it/s]\n",
      "Training Progress:  45%|████▌     | 18/40 [02:16<02:47,  7.61s/it]"
     ]
    },
    {
     "name": "stdout",
     "output_type": "stream",
     "text": [
      "Epoch 17: No improvement. Patience counter: 15/20\n",
      "Learning Rate: 0.000000160000\n",
      "Epoch: 17, train_loss: 0.56727529, valid_loss: 0.61048447\n"
     ]
    },
    {
     "name": "stderr",
     "output_type": "stream",
     "text": [
      "Training Batches: 100%|██████████| 130/130 [00:05<00:00, 23.66it/s]\n",
      "Test Batches: 100%|██████████| 130/130 [00:02<00:00, 62.48it/s]\n",
      "Training Progress:  48%|████▊     | 19/40 [02:24<02:39,  7.60s/it]"
     ]
    },
    {
     "name": "stdout",
     "output_type": "stream",
     "text": [
      "Epoch 18: No improvement. Patience counter: 16/20\n",
      "Learning Rate: 0.000000160000\n",
      "Epoch: 18, train_loss: 0.56342928, valid_loss: 0.61047582\n"
     ]
    },
    {
     "name": "stderr",
     "output_type": "stream",
     "text": [
      "Training Batches: 100%|██████████| 130/130 [00:05<00:00, 23.68it/s]\n",
      "Test Batches: 100%|██████████| 130/130 [00:02<00:00, 62.23it/s]\n",
      "Training Progress:  50%|█████     | 20/40 [02:31<02:31,  7.60s/it]"
     ]
    },
    {
     "name": "stdout",
     "output_type": "stream",
     "text": [
      "Epoch 19: No improvement. Patience counter: 17/20\n",
      "Learning Rate: 0.000000160000\n",
      "Epoch: 19, train_loss: 0.56725087, valid_loss: 0.61025575\n"
     ]
    },
    {
     "name": "stderr",
     "output_type": "stream",
     "text": [
      "Training Batches: 100%|██████████| 130/130 [00:05<00:00, 23.84it/s]\n",
      "Test Batches: 100%|██████████| 130/130 [00:02<00:00, 61.63it/s]\n",
      "Training Progress:  52%|█████▎    | 21/40 [02:39<02:24,  7.59s/it]"
     ]
    },
    {
     "name": "stdout",
     "output_type": "stream",
     "text": [
      "Epoch 20: No improvement. Patience counter: 18/20\n",
      "Learning Rate: 0.000000032000\n",
      "Epoch: 20, train_loss: 0.56584607, valid_loss: 0.60992152\n"
     ]
    },
    {
     "name": "stderr",
     "output_type": "stream",
     "text": [
      "Training Batches: 100%|██████████| 130/130 [00:05<00:00, 23.63it/s]\n",
      "Test Batches: 100%|██████████| 130/130 [00:02<00:00, 61.65it/s]\n",
      "Training Progress:  55%|█████▌    | 22/40 [02:47<02:16,  7.60s/it]"
     ]
    },
    {
     "name": "stdout",
     "output_type": "stream",
     "text": [
      "Epoch 21: No improvement. Patience counter: 19/20\n",
      "Learning Rate: 0.000000032000\n",
      "Epoch: 21, train_loss: 0.56740236, valid_loss: 0.61015708\n"
     ]
    },
    {
     "name": "stderr",
     "output_type": "stream",
     "text": [
      "Training Batches: 100%|██████████| 130/130 [00:05<00:00, 23.61it/s]\n",
      "Test Batches: 100%|██████████| 130/130 [00:02<00:00, 60.98it/s]\n",
      "Training Progress:  55%|█████▌    | 22/40 [02:54<02:22,  7.94s/it]"
     ]
    },
    {
     "name": "stdout",
     "output_type": "stream",
     "text": [
      "Epoch 22: No improvement. Patience counter: 20/20\n",
      "Early stopping at epoch 22. Best validation loss: 0.6050\n"
     ]
    },
    {
     "name": "stderr",
     "output_type": "stream",
     "text": [
      "\n"
     ]
    }
   ],
   "source": [
    "from utils.model_GRUD import *\n",
    "\n",
    "# Initialize the model with filtered parameters\n",
    "model = GRUD(**model_params)\n",
    "\n",
    "# Train the model with Train_Model function\n",
    "train_losses, test_losses , train_acc, test_acc = gru_trained_model_and_metadata(model,\n",
    "                                                                                train_loader,\n",
    "                                                                                early_stop_loader,\n",
    "                                                                                epochs = optimized_hyperparams[\"num_epochs\"],\n",
    "                                                                                patience_early_stopping = optimized_hyperparams[\"patience_early_stopping\"],\n",
    "                                                                                patience_lr= optimized_hyperparams[\"patience_lr_scheduler\"],\n",
    "                                                                                min_delta = optimized_hyperparams[\"min_delta\"],\n",
    "                                                                                learning_rate = optimized_hyperparams[\"learning_rate\"])"
   ]
  },
  {
   "cell_type": "code",
   "execution_count": 20,
   "metadata": {},
   "outputs": [
    {
     "data": {
      "image/png": "[encoded data removed]",
      "text/plain": [
       "<Figure size 500x400 with 2 Axes>"
      ]
     },
     "metadata": {},
     "output_type": "display_data"
    }
   ],
   "source": [
    "import matplotlib.pyplot as plt\n",
    "\n",
    "# Convert losses to numpy-compatible lists directly\n",
    "train_losses_cpu = [float(loss) for loss in train_losses]\n",
    "test_losses_cpu = [float(loss) for loss in test_losses]\n",
    "\n",
    "# Plot training and test accuracy\n",
    "plt.figure(figsize=(5, 4))\n",
    "\n",
    "plt.subplot(1, 2, 1)\n",
    "plt.plot(train_acc, label=\"Train Accuracy\")\n",
    "plt.plot(test_acc, label=\"Test Accuracy\")\n",
    "plt.xlabel(\"Epoch\")\n",
    "plt.ylabel(\"Accuracy\")\n",
    "plt.title(\"Accuracy over Epochs\")\n",
    "plt.legend()\n",
    "\n",
    "# Plot training and test loss\n",
    "plt.subplot(1, 2, 2)\n",
    "plt.plot(train_losses, label=\"Train Loss\")\n",
    "plt.plot(test_losses, label=\"Test Loss\")\n",
    "plt.xlabel(\"Epoch\")\n",
    "plt.ylabel(\"Loss\")\n",
    "plt.title(\"Loss over Epochs\")\n",
    "plt.legend()\n",
    "\n",
    "plt.tight_layout()\n",
    "plt.show()"
   ]
  },
  {
   "cell_type": "markdown",
   "metadata": {},
   "source": [
    "##  Attacking the GRUD model\n",
    "Modify ```audit.yaml ``` file to attack GRUD model: \n",
    "  \n",
    "  ```\n",
    "  module_path: \"utils/model_GRUD.py\" \n",
    "  model_class: \"GRUD\"\n",
    "  target_folder: \"./target_GRUD\"\n",
    "  data_path: \"./data/GRUD_data/dataset.pkl\"\n",
    "  ```"
   ]
  },
  {
   "cell_type": "code",
   "execution_count": 16,
   "metadata": {},
   "outputs": [
    {
     "name": "stderr",
     "output_type": "stream",
     "text": [
      "2025-02-18 10:43:44,323 INFO     Target model blueprint created from GRUD in utils/model_GRUD.py.\n",
      "2025-02-18 10:43:44,330 INFO     Loaded target model metadata from ./target_GRUD/model_metadata.pkl\n",
      "2025-02-18 10:43:44,333 INFO     Loaded target model from ./target_GRUD\n",
      "2025-02-18 10:43:45,190 INFO     Loaded population dataset from ./data/GRUD_data/dataset.pkl\n",
      "2025-02-18 10:43:45,191 INFO     Loaded population dataset from ./data/GRUD_data/dataset.pkl\n",
      "2025-02-18 10:43:45,191 INFO     MIA attack factory loaded.\n",
      "2025-02-18 10:43:45,191 INFO     Configuring RMIA attack\n",
      "2025-02-18 10:43:45,192 INFO     Added attack: rmia\n",
      "2025-02-18 10:43:45,192 INFO     Preparing attack: rmia\n",
      "2025-02-18 10:43:45,193 INFO     Preparing shadow models for RMIA attack\n",
      "2025-02-18 10:43:45,193 INFO     Preparing attack data for training the RMIA attack\n",
      "2025-02-18 10:43:45,194 INFO     Check for 8 shadow models (dataset: 23944 points)\n",
      "2025-02-18 10:43:45,195 WARNING  Using the same model class for shadow models as the target model.\n",
      "2025-02-18 10:43:45,197 INFO     Number of existing models exceeds or equals the number of models to create\n",
      "2025-02-18 10:43:45,198 INFO     Loading shadow model 0\n",
      "2025-02-18 10:43:45,202 INFO     Loaded model from ./leakpro_output/attack_objects/shadow_model/shadow_model_0.pkl\n",
      "2025-02-18 10:43:45,203 INFO     Loading shadow model 4\n",
      "2025-02-18 10:43:45,206 INFO     Loaded model from ./leakpro_output/attack_objects/shadow_model/shadow_model_4.pkl\n",
      "2025-02-18 10:43:45,206 INFO     Loading shadow model 2\n",
      "2025-02-18 10:43:45,210 INFO     Loaded model from ./leakpro_output/attack_objects/shadow_model/shadow_model_2.pkl\n",
      "2025-02-18 10:43:45,211 INFO     Loading shadow model 3\n",
      "2025-02-18 10:43:45,214 INFO     Loaded model from ./leakpro_output/attack_objects/shadow_model/shadow_model_3.pkl\n",
      "2025-02-18 10:43:45,214 INFO     Loading shadow model 5\n",
      "2025-02-18 10:43:45,217 INFO     Loaded model from ./leakpro_output/attack_objects/shadow_model/shadow_model_5.pkl\n",
      "2025-02-18 10:43:45,218 INFO     Loading shadow model 7\n",
      "2025-02-18 10:43:45,221 INFO     Loaded model from ./leakpro_output/attack_objects/shadow_model/shadow_model_7.pkl\n",
      "2025-02-18 10:43:45,222 INFO     Loading shadow model 1\n",
      "2025-02-18 10:43:45,225 INFO     Loaded model from ./leakpro_output/attack_objects/shadow_model/shadow_model_1.pkl\n",
      "2025-02-18 10:43:45,225 INFO     Loading shadow model 6\n",
      "2025-02-18 10:43:45,228 INFO     Loaded model from ./leakpro_output/attack_objects/shadow_model/shadow_model_6.pkl\n",
      "2025-02-18 10:43:45,229 INFO     Running attack: rmia\n",
      "2025-02-18 10:43:45,229 INFO     Running RMIA online attack\n",
      "2025-02-18 10:43:45,230 INFO     Loading metadata 0\n",
      "2025-02-18 10:43:45,231 INFO     Loading metadata 4\n",
      "2025-02-18 10:43:45,231 INFO     Loading metadata 2\n",
      "2025-02-18 10:43:45,232 INFO     Loading metadata 3\n",
      "2025-02-18 10:43:45,233 INFO     Loading metadata 5\n",
      "2025-02-18 10:43:45,233 INFO     Loading metadata 7\n",
      "2025-02-18 10:43:45,234 INFO     Loading metadata 1\n",
      "2025-02-18 10:43:45,235 INFO     Loading metadata 6\n",
      "2025-02-18 10:43:45,590 INFO     Number of points in the audit dataset that are used for online attack: 19011\n",
      "2025-02-18 10:45:10,453 INFO     Subsampling attack data from 4790 points       \n",
      "2025-02-18 10:45:10,454 INFO     Number of attack data points after subsampling: 2395\n",
      "2025-02-18 10:45:22,133 INFO     Finished attack: rmia                        \n",
      "2025-02-18 10:45:22,134 INFO     Preparing results for attack: rmia\n",
      "2025-02-18 10:45:22,134 INFO     Auditing completed\n"
     ]
    }
   ],
   "source": [
    "from mimic_GRUD_handler import MimicInputHandlerGRU\n",
    "\n",
    "from leakpro import LeakPro\n",
    "\n",
    "# Read the config file\n",
    "config_path = \"audit.yaml\"\n",
    "\n",
    "# Prepare leakpro object\n",
    "leakpro = LeakPro(MimicInputHandlerGRU, config_path)\n",
    "\n",
    "# Run the audit\n",
    "mia_results = leakpro.run_audit(return_results=True)"
   ]
  },
  {
   "cell_type": "markdown",
   "metadata": {},
   "source": [
    "## Report Genrating"
   ]
  },
  {
   "cell_type": "code",
   "execution_count": 17,
   "metadata": {},
   "outputs": [
    {
     "name": "stderr",
     "output_type": "stream",
     "text": [
      "2025-02-18 10:45:33,356 INFO     Initializing report handler...\n",
      "2025-02-18 10:45:33,357 INFO     report_dir set to: ./leakpro_output/results\n",
      "2025-02-18 10:45:33,358 INFO     Saving results for rmia\n"
     ]
    },
    {
     "data": {
      "text/plain": [
       "<Figure size 640x480 with 0 Axes>"
      ]
     },
     "metadata": {},
     "output_type": "display_data"
    }
   ],
   "source": [
    "\n",
    "# Import and initialize ReportHandler\n",
    "from leakpro.reporting.report_handler import ReportHandler\n",
    "\n",
    "# report_handler = ReportHandler()\n",
    "report_handler = ReportHandler(report_dir=\"./leakpro_output/results\")\n",
    "\n",
    "# Save MIA resuls using report handler\n",
    "for res in mia_results:\n",
    "    report_handler.save_results(attack_name=res.attack_name, result_data=res, config=res.configs)"
   ]
  },
  {
   "cell_type": "code",
   "execution_count": 18,
   "metadata": {},
   "outputs": [
    {
     "name": "stderr",
     "output_type": "stream",
     "text": [
      "2025-02-18 10:45:43,301 INFO     No results of type GIAResults found.\n",
      "2025-02-18 10:45:43,302 INFO     No results of type SinglingOutResults found.\n",
      "2025-02-18 10:45:43,302 INFO     No results of type InferenceResults found.\n",
      "2025-02-18 10:45:43,303 INFO     No results of type LinkabilityResults found.\n",
      "2025-02-18 10:45:48,543 INFO     PDF compiled\n"
     ]
    },
    {
     "data": {
      "text/plain": [
       "<Figure size 640x480 with 0 Axes>"
      ]
     },
     "metadata": {},
     "output_type": "display_data"
    }
   ],
   "source": [
    "\n",
    "# # Create the report by compiling the latex text\n",
    "report_handler.create_report()"
   ]
  }
 ],
 "metadata": {
  "kernelspec": {
   "display_name": "leakpro_test",
   "language": "python",
   "name": "python3"
  },
  "language_info": {
   "codemirror_mode": {
    "name": "ipython",
    "version": 3
   },
   "file_extension": ".py",
   "mimetype": "text/x-python",
   "name": "python",
   "nbconvert_exporter": "python",
   "pygments_lexer": "ipython3",
   "version": "3.11.11"
  }
 },
 "nbformat": 4,
 "nbformat_minor": 2
}
