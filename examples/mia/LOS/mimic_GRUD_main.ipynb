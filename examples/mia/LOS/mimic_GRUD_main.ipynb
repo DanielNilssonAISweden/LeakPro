{
 "cells": [
  {
   "cell_type": "markdown",
   "metadata": {},
   "source": [
    "# MIA attacks on Length-of-Stay predictor, Gated Recurrent Unit with Decay (GRU-D)\n",
    "## Installation of Packages in Conda\n",
    "\n",
    "To install the required packages in your conda environment, you can use the following commands:\n",
    "\n",
    "```bash\n",
    "conda install h5py\n",
    "conda install pytables"
   ]
  },
  {
   "cell_type": "code",
   "execution_count": 1,
   "metadata": {},
   "outputs": [],
   "source": [
    "%reload_ext autoreload\n",
    "%autoreload 2"
   ]
  },
  {
   "cell_type": "code",
   "execution_count": 2,
   "metadata": {},
   "outputs": [],
   "source": [
    "import os\n",
    "import sys\n",
    "\n",
    "from torch import zeros\n",
    "\n",
    "project_root = os.path.abspath(os.path.join(os.getcwd(), \"../../..\"))\n",
    "sys.path.append(project_root)\n",
    "\n",
    "from utils.data_processing import get_mimic_dataloaders, get_mimic_dataset"
   ]
  },
  {
   "cell_type": "markdown",
   "metadata": {},
   "source": [
    "The  `batch_size` is one of the parameters which is assigned based on hyperparameter tuning as detailed in [this notebook](https://github.com/MLforHealth/MIMIC_Extract/blob/4daf3c89be7de05d26f47819d68d5532de6f753a/notebooks/Baselines%20for%20Mortality%20and%20LOS%20prediction%20-%20GRU-D.ipynb)."
   ]
  },
  {
   "cell_type": "code",
   "execution_count": 3,
   "metadata": {},
   "outputs": [
    {
     "name": "stdout",
     "output_type": "stream",
     "text": [
      "Loading dataset...\n",
      "Loaded dataset from /home/fazeleh/LeakPro/examples/mia/LOS/data/GRUD_data/dataset.pkl\n"
     ]
    }
   ],
   "source": [
    "# Generate the dataset and dataloaders\n",
    "path = os.path.join(os.getcwd(), \"data/\")\n",
    "\n",
    "train_frac = 0.4\n",
    "valid_frac = 0.0\n",
    "test_frac = 0.0\n",
    "early_stop_frac = 0.4\n",
    "batch_size = 74\n",
    "use_LR = False # True if you want to use the LR model, False if you want to use the GRUD model\n",
    "\n",
    "dataset, train_indices, validation_indices, test_indices, early_stop_indices= get_mimic_dataset(path,\n",
    "                                                                            train_frac ,\n",
    "                                                                            valid_frac,\n",
    "                                                                            test_frac,\n",
    "                                                                            early_stop_frac,\n",
    "                                                                            use_LR)"
   ]
  },
  {
   "cell_type": "code",
   "execution_count": 4,
   "metadata": {},
   "outputs": [],
   "source": [
    "train_loader, validation_loader, test_loader, early_stop_loader = get_mimic_dataloaders(dataset,\n",
    "                                                            train_indices,\n",
    "                                                            validation_indices,\n",
    "                                                            test_indices,\n",
    "                                                            early_stop_indices,\n",
    "                                                            batch_size)"
   ]
  },
  {
   "cell_type": "markdown",
   "metadata": {},
   "source": [
    "The `optimized_hyperparams` is assigned based on hyperparameter tuning as detailed in [this notebook](https://github.com/MLforHealth/MIMIC_Extract/blob/4daf3c89be7de05d26f47819d68d5532de6f753a/notebooks/Baselines%20for%20Mortality%20and%20LOS%20prediction%20-%20GRU-D.ipynb)."
   ]
  },
  {
   "cell_type": "code",
   "execution_count": 12,
   "metadata": {},
   "outputs": [],
   "source": [
    "optimized_hyperparams ={\n",
    "    \"hidden_size\": 27,\n",
    "    \"learning_rate\": 0.0001,\n",
    "    \"num_epochs\":40,\n",
    "    \"patience_early_stopping\": 40,\n",
    "    \"patience_lr_scheduler\": 2,\n",
    "    \"batch_size\": 74,\n",
    "    \"seed\": 6286,\n",
    "    \"min_delta\": 0.00001,\n",
    "    }\n",
    "n_features = int(dataset.x.shape[1]/3)\n",
    "X_mean = zeros(1,dataset.x.shape[2],n_features)\n",
    "\n",
    "model_params = {k: optimized_hyperparams[k] for k in [ \"hidden_size\", \"batch_size\"]}\n",
    "\n",
    "# Add other required parameters to model_params\n",
    "model_params.update({\n",
    "    \"input_size\": n_features,\n",
    "    \"X_mean\": X_mean,\n",
    "    \"output_last\": False\n",
    "})"
   ]
  },
  {
   "cell_type": "code",
   "execution_count": 13,
   "metadata": {},
   "outputs": [
    {
     "name": "stdout",
     "output_type": "stream",
     "text": [
      "Model Structure:  GRUD(\n",
      "  (zl): Linear(in_features=235, out_features=27, bias=True)\n",
      "  (rl): Linear(in_features=235, out_features=27, bias=True)\n",
      "  (hl): Linear(in_features=235, out_features=27, bias=True)\n",
      "  (gamma_x_l): FilterLinear(in_features=104, out_features=104, bias=True)\n",
      "  (gamma_h_l): Linear(in_features=104, out_features=27, bias=True)\n",
      "  (fc): Linear(in_features=27, out_features=2, bias=True)\n",
      "  (bn): BatchNorm1d(2, eps=1e-05, momentum=0.1, affine=True, track_running_stats=True)\n",
      "  (drop): Dropout(p=0.2, inplace=False)\n",
      ")\n",
      "Start Training ... \n",
      "Output type dermined by the model\n"
     ]
    },
    {
     "name": "stderr",
     "output_type": "stream",
     "text": [
      "Training Progress:   0%|          | 0/40 [00:00<?, ?it/s]"
     ]
    },
    {
     "name": "stderr",
     "output_type": "stream",
     "text": [
      "Training Batches: 100%|██████████| 130/130 [00:05<00:00, 23.73it/s]\n",
      "Test Batches: 100%|██████████| 130/130 [00:02<00:00, 61.70it/s]\n",
      "Training Progress:   2%|▎         | 1/40 [00:07<04:56,  7.59s/it]"
     ]
    },
    {
     "name": "stdout",
     "output_type": "stream",
     "text": [
      "Epoch 0: Validation loss improved to 0.6755\n",
      "Learning Rate: 0.000100000000\n",
      "Epoch: 0, train_loss: 0.77142452, valid_loss: 0.6755281\n"
     ]
    },
    {
     "name": "stderr",
     "output_type": "stream",
     "text": [
      "Training Batches: 100%|██████████| 130/130 [00:05<00:00, 23.56it/s]\n",
      "Test Batches: 100%|██████████| 130/130 [00:02<00:00, 61.62it/s]\n",
      "Training Progress:   5%|▌         | 2/40 [00:15<04:49,  7.62s/it]"
     ]
    },
    {
     "name": "stdout",
     "output_type": "stream",
     "text": [
      "Epoch 1: Validation loss improved to 0.6480\n",
      "Learning Rate: 0.000100000000\n",
      "Epoch: 1, train_loss: 0.70990286, valid_loss: 0.64802595\n"
     ]
    },
    {
     "name": "stderr",
     "output_type": "stream",
     "text": [
      "Training Batches: 100%|██████████| 130/130 [00:05<00:00, 23.60it/s]\n",
      "Test Batches: 100%|██████████| 130/130 [00:02<00:00, 61.95it/s]\n",
      "Training Progress:   8%|▊         | 3/40 [00:22<04:41,  7.62s/it]"
     ]
    },
    {
     "name": "stdout",
     "output_type": "stream",
     "text": [
      "Epoch 2: Validation loss improved to 0.6375\n",
      "Learning Rate: 0.000100000000\n",
      "Epoch: 2, train_loss: 0.68575445, valid_loss: 0.6375039\n"
     ]
    },
    {
     "name": "stderr",
     "output_type": "stream",
     "text": [
      "Training Batches: 100%|██████████| 130/130 [00:05<00:00, 23.63it/s]\n",
      "Test Batches: 100%|██████████| 130/130 [00:02<00:00, 61.92it/s]\n",
      "Training Progress:  10%|█         | 4/40 [00:30<04:34,  7.61s/it]"
     ]
    },
    {
     "name": "stdout",
     "output_type": "stream",
     "text": [
      "Epoch 3: Validation loss improved to 0.6306\n",
      "Learning Rate: 0.000100000000\n",
      "Epoch: 3, train_loss: 0.67221655, valid_loss: 0.63060581\n"
     ]
    },
    {
     "name": "stderr",
     "output_type": "stream",
     "text": [
      "Training Batches: 100%|██████████| 130/130 [00:05<00:00, 23.68it/s]\n",
      "Test Batches: 100%|██████████| 130/130 [00:02<00:00, 62.35it/s]\n",
      "Training Progress:  12%|█▎        | 5/40 [00:38<04:26,  7.60s/it]"
     ]
    },
    {
     "name": "stdout",
     "output_type": "stream",
     "text": [
      "Epoch 4: Validation loss improved to 0.6263\n",
      "Learning Rate: 0.000100000000\n",
      "Epoch: 4, train_loss: 0.6663743, valid_loss: 0.62629236\n"
     ]
    },
    {
     "name": "stderr",
     "output_type": "stream",
     "text": [
      "Training Batches: 100%|██████████| 130/130 [00:05<00:00, 23.68it/s]\n",
      "Test Batches: 100%|██████████| 130/130 [00:02<00:00, 62.33it/s]\n",
      "Training Progress:  15%|█▌        | 6/40 [00:45<04:18,  7.60s/it]"
     ]
    },
    {
     "name": "stdout",
     "output_type": "stream",
     "text": [
      "Epoch 5: Validation loss improved to 0.6234\n",
      "Learning Rate: 0.000100000000\n",
      "Epoch: 5, train_loss: 0.65855825, valid_loss: 0.62342111\n"
     ]
    },
    {
     "name": "stderr",
     "output_type": "stream",
     "text": [
      "Training Batches: 100%|██████████| 130/130 [00:05<00:00, 23.68it/s]\n",
      "Test Batches: 100%|██████████| 130/130 [00:02<00:00, 61.91it/s]\n",
      "Training Progress:  18%|█▊        | 7/40 [00:53<04:10,  7.60s/it]"
     ]
    },
    {
     "name": "stdout",
     "output_type": "stream",
     "text": [
      "Epoch 6: No improvement. Patience counter: 1/40\n",
      "Learning Rate: 0.000100000000\n",
      "Epoch: 6, train_loss: 0.65072195, valid_loss: 0.62361345\n"
     ]
    },
    {
     "name": "stderr",
     "output_type": "stream",
     "text": [
      "Training Batches: 100%|██████████| 130/130 [00:05<00:00, 23.67it/s]\n",
      "Test Batches: 100%|██████████| 130/130 [00:02<00:00, 61.71it/s]\n",
      "Training Progress:  20%|██        | 8/40 [01:00<04:03,  7.60s/it]"
     ]
    },
    {
     "name": "stdout",
     "output_type": "stream",
     "text": [
      "Epoch 7: Validation loss improved to 0.6228\n",
      "Learning Rate: 0.000100000000\n",
      "Epoch: 7, train_loss: 0.65277301, valid_loss: 0.62277012\n"
     ]
    },
    {
     "name": "stderr",
     "output_type": "stream",
     "text": [
      "Training Batches: 100%|██████████| 130/130 [00:05<00:00, 23.69it/s]\n",
      "Test Batches: 100%|██████████| 130/130 [00:02<00:00, 62.70it/s]\n",
      "Training Progress:  22%|██▎       | 9/40 [01:08<03:55,  7.59s/it]"
     ]
    },
    {
     "name": "stdout",
     "output_type": "stream",
     "text": [
      "Epoch 8: Validation loss improved to 0.6224\n",
      "Learning Rate: 0.000100000000\n",
      "Epoch: 8, train_loss: 0.64107054, valid_loss: 0.62238655\n"
     ]
    },
    {
     "name": "stderr",
     "output_type": "stream",
     "text": [
      "Training Batches: 100%|██████████| 130/130 [00:05<00:00, 23.77it/s]\n",
      "Test Batches: 100%|██████████| 130/130 [00:02<00:00, 62.25it/s]\n",
      "Training Progress:  25%|██▌       | 10/40 [01:15<03:47,  7.58s/it]"
     ]
    },
    {
     "name": "stdout",
     "output_type": "stream",
     "text": [
      "Epoch 9: Validation loss improved to 0.6214\n",
      "Learning Rate: 0.000100000000\n",
      "Epoch: 9, train_loss: 0.63568287, valid_loss: 0.62143204\n"
     ]
    },
    {
     "name": "stderr",
     "output_type": "stream",
     "text": [
      "Training Batches: 100%|██████████| 130/130 [00:05<00:00, 23.67it/s]\n",
      "Test Batches: 100%|██████████| 130/130 [00:02<00:00, 62.26it/s]\n",
      "Training Progress:  28%|██▊       | 11/40 [01:23<03:39,  7.58s/it]"
     ]
    },
    {
     "name": "stdout",
     "output_type": "stream",
     "text": [
      "Epoch 10: No improvement. Patience counter: 1/40\n",
      "Learning Rate: 0.000100000000\n",
      "Epoch: 10, train_loss: 0.63023297, valid_loss: 0.62200899\n"
     ]
    },
    {
     "name": "stderr",
     "output_type": "stream",
     "text": [
      "Training Batches: 100%|██████████| 130/130 [00:05<00:00, 23.67it/s]\n",
      "Test Batches: 100%|██████████| 130/130 [00:02<00:00, 62.56it/s]\n",
      "Training Progress:  30%|███       | 12/40 [01:31<03:32,  7.58s/it]"
     ]
    },
    {
     "name": "stdout",
     "output_type": "stream",
     "text": [
      "Epoch 11: No improvement. Patience counter: 2/40\n",
      "Learning Rate: 0.000100000000\n",
      "Epoch: 11, train_loss: 0.62372054, valid_loss: 0.62250409\n"
     ]
    },
    {
     "name": "stderr",
     "output_type": "stream",
     "text": [
      "Training Batches: 100%|██████████| 130/130 [00:05<00:00, 23.72it/s]\n",
      "Test Batches: 100%|██████████| 130/130 [00:02<00:00, 61.58it/s]\n",
      "Training Progress:  32%|███▎      | 13/40 [01:38<03:24,  7.59s/it]"
     ]
    },
    {
     "name": "stdout",
     "output_type": "stream",
     "text": [
      "Epoch 12: No improvement. Patience counter: 3/40\n",
      "Learning Rate: 0.000020000000\n",
      "Epoch: 12, train_loss: 0.62312966, valid_loss: 0.62408618\n"
     ]
    },
    {
     "name": "stderr",
     "output_type": "stream",
     "text": [
      "Training Batches: 100%|██████████| 130/130 [00:05<00:00, 23.66it/s]\n",
      "Test Batches: 100%|██████████| 130/130 [00:02<00:00, 62.00it/s]\n",
      "Training Progress:  35%|███▌      | 14/40 [01:46<03:17,  7.59s/it]"
     ]
    },
    {
     "name": "stdout",
     "output_type": "stream",
     "text": [
      "Epoch 13: No improvement. Patience counter: 4/40\n",
      "Learning Rate: 0.000020000000\n",
      "Epoch: 13, train_loss: 0.61365205, valid_loss: 0.62479363\n"
     ]
    },
    {
     "name": "stderr",
     "output_type": "stream",
     "text": [
      "Training Batches: 100%|██████████| 130/130 [00:05<00:00, 23.66it/s]\n",
      "Test Batches: 100%|██████████| 130/130 [00:02<00:00, 61.58it/s]\n",
      "Training Progress:  38%|███▊      | 15/40 [01:53<03:09,  7.60s/it]"
     ]
    },
    {
     "name": "stdout",
     "output_type": "stream",
     "text": [
      "Epoch 14: No improvement. Patience counter: 5/40\n",
      "Learning Rate: 0.000020000000\n",
      "Epoch: 14, train_loss: 0.61150404, valid_loss: 0.62496369\n"
     ]
    },
    {
     "name": "stderr",
     "output_type": "stream",
     "text": [
      "Training Batches: 100%|██████████| 130/130 [00:05<00:00, 23.72it/s]\n",
      "Test Batches: 100%|██████████| 130/130 [00:02<00:00, 61.53it/s]\n",
      "Training Progress:  40%|████      | 16/40 [02:01<03:02,  7.60s/it]"
     ]
    },
    {
     "name": "stdout",
     "output_type": "stream",
     "text": [
      "Epoch 15: No improvement. Patience counter: 6/40\n",
      "Learning Rate: 0.000004000000\n",
      "Epoch: 15, train_loss: 0.61046561, valid_loss: 0.62524198\n"
     ]
    },
    {
     "name": "stderr",
     "output_type": "stream",
     "text": [
      "Training Batches: 100%|██████████| 130/130 [00:05<00:00, 23.62it/s]\n",
      "Test Batches: 100%|██████████| 130/130 [00:02<00:00, 61.51it/s]\n",
      "Training Progress:  42%|████▎     | 17/40 [02:09<02:54,  7.61s/it]"
     ]
    },
    {
     "name": "stdout",
     "output_type": "stream",
     "text": [
      "Epoch 16: No improvement. Patience counter: 7/40\n",
      "Learning Rate: 0.000004000000\n",
      "Epoch: 16, train_loss: 0.61262291, valid_loss: 0.62539906\n"
     ]
    },
    {
     "name": "stderr",
     "output_type": "stream",
     "text": [
      "Training Batches: 100%|██████████| 130/130 [00:05<00:00, 23.73it/s]\n",
      "Test Batches: 100%|██████████| 130/130 [00:02<00:00, 61.89it/s]\n",
      "Training Progress:  45%|████▌     | 18/40 [02:16<02:47,  7.60s/it]"
     ]
    },
    {
     "name": "stdout",
     "output_type": "stream",
     "text": [
      "Epoch 17: No improvement. Patience counter: 8/40\n",
      "Learning Rate: 0.000004000000\n",
      "Epoch: 17, train_loss: 0.61028987, valid_loss: 0.62536747\n"
     ]
    },
    {
     "name": "stderr",
     "output_type": "stream",
     "text": [
      "Training Batches: 100%|██████████| 130/130 [00:05<00:00, 23.50it/s]\n",
      "Test Batches: 100%|██████████| 130/130 [00:02<00:00, 61.94it/s]\n",
      "Training Progress:  48%|████▊     | 19/40 [02:24<02:39,  7.61s/it]"
     ]
    },
    {
     "name": "stdout",
     "output_type": "stream",
     "text": [
      "Epoch 18: No improvement. Patience counter: 9/40\n",
      "Learning Rate: 0.000000800000\n",
      "Epoch: 18, train_loss: 0.61096002, valid_loss: 0.62536713\n"
     ]
    },
    {
     "name": "stderr",
     "output_type": "stream",
     "text": [
      "Training Batches: 100%|██████████| 130/130 [00:05<00:00, 23.57it/s]\n",
      "Test Batches: 100%|██████████| 130/130 [00:02<00:00, 62.35it/s]\n",
      "Training Progress:  50%|█████     | 20/40 [02:31<02:32,  7.61s/it]"
     ]
    },
    {
     "name": "stdout",
     "output_type": "stream",
     "text": [
      "Epoch 19: No improvement. Patience counter: 10/40\n",
      "Learning Rate: 0.000000800000\n",
      "Epoch: 19, train_loss: 0.60783245, valid_loss: 0.62539858\n"
     ]
    },
    {
     "name": "stderr",
     "output_type": "stream",
     "text": [
      "Training Batches: 100%|██████████| 130/130 [00:05<00:00, 23.63it/s]\n",
      "Test Batches: 100%|██████████| 130/130 [00:02<00:00, 61.72it/s]\n",
      "Training Progress:  52%|█████▎    | 21/40 [02:39<02:24,  7.61s/it]"
     ]
    },
    {
     "name": "stdout",
     "output_type": "stream",
     "text": [
      "Epoch 20: No improvement. Patience counter: 11/40\n",
      "Learning Rate: 0.000000800000\n",
      "Epoch: 20, train_loss: 0.60612318, valid_loss: 0.62541465\n"
     ]
    },
    {
     "name": "stderr",
     "output_type": "stream",
     "text": [
      "Training Batches: 100%|██████████| 130/130 [00:05<00:00, 23.50it/s]\n",
      "Test Batches: 100%|██████████| 130/130 [00:02<00:00, 61.92it/s]\n",
      "Training Progress:  55%|█████▌    | 22/40 [02:47<02:17,  7.62s/it]"
     ]
    },
    {
     "name": "stdout",
     "output_type": "stream",
     "text": [
      "Epoch 21: No improvement. Patience counter: 12/40\n",
      "Learning Rate: 0.000000160000\n",
      "Epoch: 21, train_loss: 0.61198717, valid_loss: 0.62543615\n"
     ]
    },
    {
     "name": "stderr",
     "output_type": "stream",
     "text": [
      "Training Batches: 100%|██████████| 130/130 [00:05<00:00, 23.66it/s]\n",
      "Test Batches: 100%|██████████| 130/130 [00:02<00:00, 61.87it/s]\n",
      "Training Progress:  57%|█████▊    | 23/40 [02:54<02:09,  7.62s/it]"
     ]
    },
    {
     "name": "stdout",
     "output_type": "stream",
     "text": [
      "Epoch 22: No improvement. Patience counter: 13/40\n",
      "Learning Rate: 0.000000160000\n",
      "Epoch: 22, train_loss: 0.60663263, valid_loss: 0.62544265\n"
     ]
    },
    {
     "name": "stderr",
     "output_type": "stream",
     "text": [
      "Training Batches: 100%|██████████| 130/130 [00:05<00:00, 23.61it/s]\n",
      "Test Batches: 100%|██████████| 130/130 [00:02<00:00, 62.49it/s]\n",
      "Training Progress:  60%|██████    | 24/40 [03:02<02:01,  7.61s/it]"
     ]
    },
    {
     "name": "stdout",
     "output_type": "stream",
     "text": [
      "Epoch 23: No improvement. Patience counter: 14/40\n",
      "Learning Rate: 0.000000160000\n",
      "Epoch: 23, train_loss: 0.60631481, valid_loss: 0.62544579\n"
     ]
    },
    {
     "name": "stderr",
     "output_type": "stream",
     "text": [
      "Training Batches: 100%|██████████| 130/130 [00:05<00:00, 23.71it/s]\n",
      "Test Batches: 100%|██████████| 130/130 [00:02<00:00, 62.41it/s]\n",
      "Training Progress:  62%|██████▎   | 25/40 [03:10<01:53,  7.60s/it]"
     ]
    },
    {
     "name": "stdout",
     "output_type": "stream",
     "text": [
      "Epoch 24: No improvement. Patience counter: 15/40\n",
      "Learning Rate: 0.000000032000\n",
      "Epoch: 24, train_loss: 0.60956054, valid_loss: 0.62544693\n"
     ]
    },
    {
     "name": "stderr",
     "output_type": "stream",
     "text": [
      "Training Batches: 100%|██████████| 130/130 [00:05<00:00, 23.75it/s]\n",
      "Test Batches: 100%|██████████| 130/130 [00:02<00:00, 61.91it/s]\n",
      "Training Progress:  65%|██████▌   | 26/40 [03:17<01:46,  7.59s/it]"
     ]
    },
    {
     "name": "stdout",
     "output_type": "stream",
     "text": [
      "Epoch 25: No improvement. Patience counter: 16/40\n",
      "Learning Rate: 0.000000032000\n",
      "Epoch: 25, train_loss: 0.61014141, valid_loss: 0.62544855\n"
     ]
    },
    {
     "name": "stderr",
     "output_type": "stream",
     "text": [
      "Training Batches: 100%|██████████| 130/130 [00:05<00:00, 23.82it/s]\n",
      "Test Batches: 100%|██████████| 130/130 [00:02<00:00, 62.61it/s]\n",
      "Training Progress:  68%|██████▊   | 27/40 [03:25<01:38,  7.58s/it]"
     ]
    },
    {
     "name": "stdout",
     "output_type": "stream",
     "text": [
      "Epoch 26: No improvement. Patience counter: 17/40\n",
      "Learning Rate: 0.000000032000\n",
      "Epoch: 26, train_loss: 0.61104354, valid_loss: 0.62544953\n"
     ]
    },
    {
     "name": "stderr",
     "output_type": "stream",
     "text": [
      "Training Batches: 100%|██████████| 130/130 [00:05<00:00, 23.70it/s]\n",
      "Test Batches: 100%|██████████| 130/130 [00:02<00:00, 62.52it/s]\n",
      "Training Progress:  70%|███████   | 28/40 [03:32<01:30,  7.58s/it]"
     ]
    },
    {
     "name": "stdout",
     "output_type": "stream",
     "text": [
      "Epoch 27: No improvement. Patience counter: 18/40\n",
      "Learning Rate: 0.000000006400\n",
      "Epoch: 27, train_loss: 0.60807777, valid_loss: 0.62545027\n"
     ]
    },
    {
     "name": "stderr",
     "output_type": "stream",
     "text": [
      "Training Batches: 100%|██████████| 130/130 [00:05<00:00, 23.89it/s]\n",
      "Test Batches: 100%|██████████| 130/130 [00:02<00:00, 62.56it/s]\n",
      "Training Progress:  72%|███████▎  | 29/40 [03:40<01:23,  7.56s/it]"
     ]
    },
    {
     "name": "stdout",
     "output_type": "stream",
     "text": [
      "Epoch 28: No improvement. Patience counter: 19/40\n",
      "Learning Rate: 0.000000006400\n",
      "Epoch: 28, train_loss: 0.60957477, valid_loss: 0.62545051\n"
     ]
    },
    {
     "name": "stderr",
     "output_type": "stream",
     "text": [
      "Training Batches: 100%|██████████| 130/130 [00:05<00:00, 23.77it/s]\n",
      "Test Batches: 100%|██████████| 130/130 [00:02<00:00, 62.52it/s]\n",
      "Training Progress:  75%|███████▌  | 30/40 [03:47<01:15,  7.56s/it]"
     ]
    },
    {
     "name": "stdout",
     "output_type": "stream",
     "text": [
      "Epoch 29: No improvement. Patience counter: 20/40\n",
      "Learning Rate: 0.000000006400\n",
      "Epoch: 29, train_loss: 0.60896124, valid_loss: 0.62545067\n"
     ]
    },
    {
     "name": "stderr",
     "output_type": "stream",
     "text": [
      "Training Batches: 100%|██████████| 130/130 [00:05<00:00, 23.81it/s]\n",
      "Test Batches: 100%|██████████| 130/130 [00:02<00:00, 63.45it/s]\n",
      "Training Progress:  78%|███████▊  | 31/40 [03:55<01:07,  7.55s/it]"
     ]
    },
    {
     "name": "stdout",
     "output_type": "stream",
     "text": [
      "Epoch 30: No improvement. Patience counter: 21/40\n",
      "Learning Rate: 0.000000006400\n",
      "Epoch: 30, train_loss: 0.61144581, valid_loss: 0.62545094\n"
     ]
    },
    {
     "name": "stderr",
     "output_type": "stream",
     "text": [
      "Training Batches: 100%|██████████| 130/130 [00:05<00:00, 23.90it/s]\n",
      "Test Batches: 100%|██████████| 130/130 [00:02<00:00, 63.60it/s]\n",
      "Training Progress:  80%|████████  | 32/40 [04:02<01:00,  7.53s/it]"
     ]
    },
    {
     "name": "stdout",
     "output_type": "stream",
     "text": [
      "Epoch 31: No improvement. Patience counter: 22/40\n",
      "Learning Rate: 0.000000006400\n",
      "Epoch: 31, train_loss: 0.60545864, valid_loss: 0.62545105\n"
     ]
    },
    {
     "name": "stderr",
     "output_type": "stream",
     "text": [
      "Training Batches: 100%|██████████| 130/130 [00:05<00:00, 23.73it/s]\n",
      "Test Batches: 100%|██████████| 130/130 [00:02<00:00, 62.87it/s]\n",
      "Training Progress:  82%|████████▎ | 33/40 [04:10<00:52,  7.54s/it]"
     ]
    },
    {
     "name": "stdout",
     "output_type": "stream",
     "text": [
      "Epoch 32: No improvement. Patience counter: 23/40\n",
      "Learning Rate: 0.000000006400\n",
      "Epoch: 32, train_loss: 0.60758751, valid_loss: 0.62545123\n"
     ]
    },
    {
     "name": "stderr",
     "output_type": "stream",
     "text": [
      "Training Batches: 100%|██████████| 130/130 [00:05<00:00, 23.89it/s]\n",
      "Test Batches: 100%|██████████| 130/130 [00:02<00:00, 62.93it/s]\n",
      "Training Progress:  85%|████████▌ | 34/40 [04:17<00:45,  7.53s/it]"
     ]
    },
    {
     "name": "stdout",
     "output_type": "stream",
     "text": [
      "Epoch 33: No improvement. Patience counter: 24/40\n",
      "Learning Rate: 0.000000006400\n",
      "Epoch: 33, train_loss: 0.61511705, valid_loss: 0.62545147\n"
     ]
    },
    {
     "name": "stderr",
     "output_type": "stream",
     "text": [
      "Training Batches: 100%|██████████| 130/130 [00:05<00:00, 23.74it/s]\n",
      "Test Batches: 100%|██████████| 130/130 [00:02<00:00, 62.69it/s]\n",
      "Training Progress:  88%|████████▊ | 35/40 [04:25<00:37,  7.54s/it]"
     ]
    },
    {
     "name": "stdout",
     "output_type": "stream",
     "text": [
      "Epoch 34: No improvement. Patience counter: 25/40\n",
      "Learning Rate: 0.000000006400\n",
      "Epoch: 34, train_loss: 0.6090028, valid_loss: 0.62545152\n"
     ]
    },
    {
     "name": "stderr",
     "output_type": "stream",
     "text": [
      "Training Batches: 100%|██████████| 130/130 [00:05<00:00, 23.73it/s]\n",
      "Test Batches: 100%|██████████| 130/130 [00:02<00:00, 63.70it/s]\n",
      "Training Progress:  90%|█████████ | 36/40 [04:32<00:30,  7.53s/it]"
     ]
    },
    {
     "name": "stdout",
     "output_type": "stream",
     "text": [
      "Epoch 35: No improvement. Patience counter: 26/40\n",
      "Learning Rate: 0.000000006400\n",
      "Epoch: 35, train_loss: 0.60815305, valid_loss: 0.62545168\n"
     ]
    },
    {
     "name": "stderr",
     "output_type": "stream",
     "text": [
      "Training Batches: 100%|██████████| 130/130 [00:05<00:00, 23.63it/s]\n",
      "Test Batches: 100%|██████████| 130/130 [00:02<00:00, 60.38it/s]\n",
      "Training Progress:  92%|█████████▎| 37/40 [04:40<00:22,  7.57s/it]"
     ]
    },
    {
     "name": "stdout",
     "output_type": "stream",
     "text": [
      "Epoch 36: No improvement. Patience counter: 27/40\n",
      "Learning Rate: 0.000000006400\n",
      "Epoch: 36, train_loss: 0.6094342, valid_loss: 0.62545175\n"
     ]
    },
    {
     "name": "stderr",
     "output_type": "stream",
     "text": [
      "Training Batches: 100%|██████████| 130/130 [00:05<00:00, 23.66it/s]\n",
      "Test Batches: 100%|██████████| 130/130 [00:02<00:00, 62.23it/s]\n",
      "Training Progress:  95%|█████████▌| 38/40 [04:48<00:15,  7.58s/it]"
     ]
    },
    {
     "name": "stdout",
     "output_type": "stream",
     "text": [
      "Epoch 37: No improvement. Patience counter: 28/40\n",
      "Learning Rate: 0.000000006400\n",
      "Epoch: 37, train_loss: 0.6070953, valid_loss: 0.62545183\n"
     ]
    },
    {
     "name": "stderr",
     "output_type": "stream",
     "text": [
      "Training Batches: 100%|██████████| 130/130 [00:05<00:00, 23.67it/s]\n",
      "Test Batches: 100%|██████████| 130/130 [00:02<00:00, 62.67it/s]\n",
      "Training Progress:  98%|█████████▊| 39/40 [04:55<00:07,  7.58s/it]"
     ]
    },
    {
     "name": "stdout",
     "output_type": "stream",
     "text": [
      "Epoch 38: No improvement. Patience counter: 29/40\n",
      "Learning Rate: 0.000000006400\n",
      "Epoch: 38, train_loss: 0.6074793, valid_loss: 0.62545199\n"
     ]
    },
    {
     "name": "stderr",
     "output_type": "stream",
     "text": [
      "Training Batches: 100%|██████████| 130/130 [00:05<00:00, 23.74it/s]\n",
      "Test Batches: 100%|██████████| 130/130 [00:02<00:00, 62.39it/s]\n",
      "Training Progress: 100%|██████████| 40/40 [05:03<00:00,  7.58s/it]"
     ]
    },
    {
     "name": "stdout",
     "output_type": "stream",
     "text": [
      "Epoch 39: No improvement. Patience counter: 30/40\n",
      "Learning Rate: 0.000000006400\n",
      "Epoch: 39, train_loss: 0.60438335, valid_loss: 0.62545215\n"
     ]
    },
    {
     "name": "stderr",
     "output_type": "stream",
     "text": [
      "\n"
     ]
    }
   ],
   "source": [
    "from utils.model_grud import *\n",
    "\n",
    "# Initialize the model with filtered parameters\n",
    "model = GRUD(**model_params)\n",
    "\n",
    "# Train the model with Train_Model function\n",
    "train_losses, test_losses , train_acc, test_acc = gru_trained_model_and_metadata(model,\n",
    "                                                                                train_loader,\n",
    "                                                                                early_stop_loader,\n",
    "                                                                                epochs = optimized_hyperparams[\"num_epochs\"],\n",
    "                                                                                patience_early_stopping = optimized_hyperparams[\"patience_early_stopping\"],\n",
    "                                                                                patience_lr= optimized_hyperparams[\"patience_lr_scheduler\"],\n",
    "                                                                                min_delta = optimized_hyperparams[\"min_delta\"],\n",
    "                                                                                learning_rate = optimized_hyperparams[\"learning_rate\"])"
   ]
  },
  {
   "cell_type": "code",
   "execution_count": 14,
   "metadata": {},
   "outputs": [
    {
     "data": {
      "image/png": "[encoded data removed]",
      "text/plain": [
       "<Figure size 500x400 with 2 Axes>"
      ]
     },
     "metadata": {},
     "output_type": "display_data"
    }
   ],
   "source": [
    "import matplotlib.pyplot as plt\n",
    "\n",
    "# Convert losses to numpy-compatible lists directly\n",
    "train_losses_cpu = [float(loss) for loss in train_losses]\n",
    "test_losses_cpu = [float(loss) for loss in test_losses]\n",
    "\n",
    "# Plot training and test accuracy\n",
    "plt.figure(figsize=(5, 4))\n",
    "\n",
    "plt.subplot(1, 2, 1)\n",
    "plt.plot(train_acc, label=\"Train Accuracy\")\n",
    "plt.plot(test_acc, label=\"Test Accuracy\")\n",
    "plt.xlabel(\"Epoch\")\n",
    "plt.ylabel(\"Accuracy\")\n",
    "plt.title(\"Accuracy over Epochs\")\n",
    "plt.legend()\n",
    "\n",
    "# Plot training and test loss\n",
    "plt.subplot(1, 2, 2)\n",
    "plt.plot(train_losses, label=\"Train Loss\")\n",
    "plt.plot(test_losses, label=\"Test Loss\")\n",
    "plt.xlabel(\"Epoch\")\n",
    "plt.ylabel(\"Loss\")\n",
    "plt.title(\"Loss over Epochs\")\n",
    "plt.legend()\n",
    "\n",
    "plt.tight_layout()\n",
    "plt.show()"
   ]
  },
  {
   "cell_type": "code",
   "execution_count": 8,
   "metadata": {},
   "outputs": [
    {
     "name": "stdout",
     "output_type": "stream",
     "text": [
      "Train Accuracy:  [0.6230552365041244, 0.643312101910828, 0.6586613762138457, 0.6658661376213846, 0.6815286624203821, 0.6946851832515402, 0.6965646862274198, 0.7079461209146914, 0.7040826981309387, 0.7053357001148585, 0.711078625874491, 0.7112874595384776, 0.715359715986217, 0.7141067140022972, 0.7149420486582437, 0.7078417040826981, 0.7144199644982772, 0.7111830427064842, 0.7128537120183773, 0.7131669625143573, 0.7119139605304375, 0.7057533674428318, 0.7125404615223974, 0.7104521248825311, 0.7124360446904041, 0.7111830427064842, 0.7093035397306046, 0.7149420486582437, 0.7151508823222303, 0.7128537120183773, 0.7097212070585779, 0.7063798684347917, 0.7125404615223974, 0.7114962932024642, 0.7133757961783439, 0.7142111308342904, 0.7124360446904041, 0.7096167902265845, 0.7124360446904041, 0.7101388743865511]\n",
      "Test Accuracy:  [0.6685809752532108, 0.6725488148689569, 0.6631512999895584, 0.6660749712853712, 0.6652396366294246, 0.6649263861334447, 0.6625247989975984, 0.6614806306776653, 0.6620027148376318, 0.6625247989975984, 0.6608541296857053, 0.6612717970136786, 0.6614806306776653, 0.661062963349692, 0.6609585465176987, 0.6609585465176987, 0.6608541296857053, 0.6609585465176987, 0.6609585465176987, 0.6609585465176987, 0.6609585465176987, 0.6609585465176987, 0.6609585465176987, 0.6609585465176987, 0.6609585465176987, 0.6609585465176987, 0.661062963349692, 0.661062963349692, 0.661062963349692, 0.661062963349692, 0.661062963349692, 0.661062963349692, 0.661062963349692, 0.661062963349692, 0.661062963349692, 0.661062963349692, 0.661062963349692, 0.661062963349692, 0.661062963349692, 0.661062963349692]\n"
     ]
    }
   ],
   "source": [
    "print(\"Train Accuracy: \", train_acc)\n",
    "print(\"Test Accuracy: \", test_acc)"
   ]
  },
  {
   "cell_type": "markdown",
   "metadata": {},
   "source": [
    "##  Attacking the GRUD model\n",
    "Modify ```audit.yaml ``` file to attack GRUD model: \n",
    "  \n",
    "  ```\n",
    "  module_path: \"utils/model_grud.py\" \n",
    "  model_class: \"GRUD\"\n",
    "  target_folder: \"./target_GRUD\"\n",
    "  data_path: \"./data/unflattened/dataset.pkl\"\n",
    "  ```"
   ]
  },
  {
   "cell_type": "code",
   "execution_count": 9,
   "metadata": {},
   "outputs": [
    {
     "name": "stderr",
     "output_type": "stream",
     "text": [
      "2025-02-17 19:21:03,498 INFO     Target model blueprint created from GRUD in utils/model_grud.py.\n",
      "2025-02-17 19:21:03,506 INFO     Loaded target model metadata from ./target_GRUD/model_metadata.pkl\n",
      "/home/fazeleh/LeakPro/leakpro/input_handler/handler_setup.py:95: FutureWarning: You are using `torch.load` with `weights_only=False` (the current default value), which uses the default pickle module implicitly. It is possible to construct malicious pickle data which will execute arbitrary code during unpickling (See https://github.com/pytorch/pytorch/blob/main/SECURITY.md#untrusted-models for more details). In a future release, the default value for `weights_only` will be flipped to `True`. This limits the functions that could be executed during unpickling. Arbitrary objects will no longer be allowed to be loaded via this mode unless they are explicitly allowlisted by the user via `torch.serialization.add_safe_globals`. We recommend you start setting `weights_only=True` for any use case where you don't have full control of the loaded file. Please open an issue on GitHub for any issues related to this experimental feature.\n",
      "  self.target_model.load_state_dict(torch.load(f))\n",
      "2025-02-17 19:21:03,510 INFO     Loaded target model from ./target_GRUD\n",
      "2025-02-17 19:21:04,413 INFO     Loaded population dataset from ./data/GRUD_data/dataset.pkl\n",
      "2025-02-17 19:21:04,414 INFO     Loaded population dataset from ./data/GRUD_data/dataset.pkl\n",
      "/home/fazeleh/miniconda3/envs/leakpro_py311/lib/python3.11/site-packages/torchvision/io/image.py:13: UserWarning: Failed to load image Python extension: '/home/fazeleh/miniconda3/envs/leakpro_py311/lib/python3.11/site-packages/torchvision/image.so: undefined symbol: _ZN3c1017RegisterOperatorsD1Ev'If you don't plan on using image functionality from `torchvision.io`, you can ignore this warning. Otherwise, there might be something wrong with your environment. Did you have `libjpeg` or `libpng` installed before building `torchvision` from source?\n",
      "  warn(\n",
      "2025-02-17 19:21:04,539 INFO     MIA attack factory loaded.\n",
      "2025-02-17 19:21:04,540 INFO     Creating shadow model handler singleton\n",
      "2025-02-17 19:21:04,544 INFO     Created folder ./leakpro_output/attack_objects/shadow_model\n",
      "2025-02-17 19:21:04,545 INFO     Creating distillation model handler singleton\n",
      "2025-02-17 19:21:04,549 INFO     Created folder ./leakpro_output/attack_objects/distillation_model\n",
      "2025-02-17 19:21:04,551 INFO     Configuring RMIA attack\n",
      "2025-02-17 19:21:04,551 INFO     Added attack: rmia\n",
      "2025-02-17 19:21:04,551 INFO     Preparing attack: rmia\n",
      "2025-02-17 19:21:04,552 INFO     Preparing shadow models for RMIA attack\n",
      "2025-02-17 19:21:04,552 INFO     Preparing attack data for training the RMIA attack\n",
      "2025-02-17 19:21:04,554 INFO     Check for 8 shadow models (dataset: 23944 points)\n",
      "2025-02-17 19:21:04,554 WARNING  Using the same model class for shadow models as the target model.\n",
      "2025-02-17 19:21:04,598 INFO     Training shadow model 0 on 11988 points\n",
      "Training Batches: 100%|██████████| 162/162 [00:06<00:00, 26.07it/s]\n",
      "Training Batches: 100%|██████████| 162/162 [00:06<00:00, 26.50it/s]\n",
      "Training Batches: 100%|██████████| 162/162 [00:06<00:00, 26.67it/s]\n",
      "Training Batches: 100%|██████████| 162/162 [00:06<00:00, 26.55it/s]\n",
      "Training Batches: 100%|██████████| 162/162 [00:06<00:00, 26.50it/s]\n",
      "Training Batches: 100%|██████████| 162/162 [00:06<00:00, 26.65it/s]\n",
      "Training Batches: 100%|██████████| 162/162 [00:06<00:00, 26.58it/s]\n",
      "Training Batches: 100%|██████████| 162/162 [00:06<00:00, 26.73it/s]\n",
      "Training Batches: 100%|██████████| 162/162 [00:06<00:00, 26.44it/s]\n",
      "Training Batches: 100%|██████████| 162/162 [00:06<00:00, 26.38it/s]\n",
      "Training Batches: 100%|██████████| 162/162 [00:06<00:00, 26.39it/s]\n",
      "Training Batches: 100%|██████████| 162/162 [00:06<00:00, 26.45it/s]\n",
      "Training Batches: 100%|██████████| 162/162 [00:06<00:00, 26.37it/s]\n",
      "Training Batches: 100%|██████████| 162/162 [00:06<00:00, 26.59it/s]\n",
      "Training Batches: 100%|██████████| 162/162 [00:06<00:00, 26.55it/s]\n",
      "Training Batches: 100%|██████████| 162/162 [00:06<00:00, 26.49it/s]\n",
      "Training Batches: 100%|██████████| 162/162 [00:06<00:00, 26.38it/s]\n",
      "Training Batches: 100%|██████████| 162/162 [00:06<00:00, 26.46it/s]\n",
      "Training Batches: 100%|██████████| 162/162 [00:06<00:00, 26.42it/s]\n",
      "Training Batches: 100%|██████████| 162/162 [00:06<00:00, 26.40it/s]\n",
      "Training Batches: 100%|██████████| 162/162 [00:06<00:00, 26.61it/s]\n",
      "Training Batches: 100%|██████████| 162/162 [00:06<00:00, 26.55it/s]\n",
      "Training Batches: 100%|██████████| 162/162 [00:06<00:00, 26.42it/s]\n",
      "Training Batches: 100%|██████████| 162/162 [00:06<00:00, 26.60it/s]\n",
      "Training Batches: 100%|██████████| 162/162 [00:06<00:00, 26.56it/s]\n",
      "Training Batches: 100%|██████████| 162/162 [00:06<00:00, 26.71it/s]\n",
      "Training Batches: 100%|██████████| 162/162 [00:06<00:00, 26.60it/s]\n",
      "Training Batches: 100%|██████████| 162/162 [00:06<00:00, 26.53it/s]\n",
      "Training Batches: 100%|██████████| 162/162 [00:06<00:00, 26.58it/s]\n",
      "Training Batches: 100%|██████████| 162/162 [00:06<00:00, 26.53it/s]\n",
      "Training Batches: 100%|██████████| 162/162 [00:06<00:00, 26.56it/s]\n",
      "Training Batches: 100%|██████████| 162/162 [00:06<00:00, 26.54it/s]\n",
      "Training Batches: 100%|██████████| 162/162 [00:06<00:00, 26.60it/s]\n",
      "Training Batches: 100%|██████████| 162/162 [00:06<00:00, 24.22it/s]\n",
      "Training Batches: 100%|██████████| 162/162 [00:07<00:00, 22.70it/s]\n",
      "Training Batches: 100%|██████████| 162/162 [00:07<00:00, 22.81it/s]\n",
      "Training Batches: 100%|██████████| 162/162 [00:06<00:00, 25.28it/s]\n",
      "Training Batches: 100%|██████████| 162/162 [00:06<00:00, 26.44it/s]\n",
      "Training Batches: 100%|██████████| 162/162 [00:06<00:00, 26.34it/s]\n",
      "Training Batches: 100%|██████████| 162/162 [00:06<00:00, 26.33it/s]\n",
      "Training Progress: 100%|██████████| 40/40 [04:07<00:00,  6.19s/it]\n",
      "2025-02-17 19:25:12,129 INFO     Training shadow model 0 complete\n",
      "2025-02-17 19:25:12,131 INFO     Saved shadow model 0 to ./leakpro_output/attack_objects/shadow_model\n",
      "2025-02-17 19:25:12,131 INFO     Storing metadata for shadow model 0\n",
      "2025-02-17 19:25:12,132 INFO     Metadata for shadow model 0 stored in ./leakpro_output/attack_objects/shadow_model\n",
      "2025-02-17 19:25:12,230 INFO     Training shadow model 1 on 11988 points\n",
      "Training Batches: 100%|██████████| 162/162 [00:07<00:00, 22.77it/s]\n",
      "Training Batches: 100%|██████████| 162/162 [00:07<00:00, 22.81it/s]\n",
      "Training Batches: 100%|██████████| 162/162 [00:07<00:00, 22.80it/s]\n",
      "Training Batches: 100%|██████████| 162/162 [00:07<00:00, 22.86it/s]\n",
      "Training Batches: 100%|██████████| 162/162 [00:07<00:00, 22.84it/s]\n",
      "Training Batches: 100%|██████████| 162/162 [00:07<00:00, 22.87it/s]\n",
      "Training Batches: 100%|██████████| 162/162 [00:07<00:00, 22.83it/s]\n",
      "Training Batches: 100%|██████████| 162/162 [00:07<00:00, 22.82it/s]\n",
      "Training Batches: 100%|██████████| 162/162 [00:06<00:00, 25.31it/s]\n",
      "Training Batches: 100%|██████████| 162/162 [00:06<00:00, 26.40it/s]\n",
      "Training Batches: 100%|██████████| 162/162 [00:06<00:00, 26.47it/s]\n",
      "Training Batches: 100%|██████████| 162/162 [00:06<00:00, 26.45it/s]\n",
      "Training Batches: 100%|██████████| 162/162 [00:06<00:00, 25.18it/s]\n",
      "Training Batches: 100%|██████████| 162/162 [00:06<00:00, 26.49it/s]\n",
      "Training Batches: 100%|██████████| 162/162 [00:06<00:00, 26.41it/s]\n",
      "Training Batches: 100%|██████████| 162/162 [00:06<00:00, 26.57it/s]\n",
      "Training Batches: 100%|██████████| 162/162 [00:06<00:00, 26.45it/s]\n",
      "Training Batches: 100%|██████████| 162/162 [00:06<00:00, 26.62it/s]\n",
      "Training Batches: 100%|██████████| 162/162 [00:06<00:00, 26.57it/s]\n",
      "Training Batches: 100%|██████████| 162/162 [00:06<00:00, 26.63it/s]\n",
      "Training Batches: 100%|██████████| 162/162 [00:06<00:00, 26.41it/s]\n",
      "Training Batches: 100%|██████████| 162/162 [00:06<00:00, 26.51it/s]\n",
      "Training Batches: 100%|██████████| 162/162 [00:06<00:00, 26.32it/s]\n",
      "Training Batches: 100%|██████████| 162/162 [00:06<00:00, 26.31it/s]\n",
      "Training Batches: 100%|██████████| 162/162 [00:06<00:00, 26.38it/s]\n",
      "Training Batches: 100%|██████████| 162/162 [00:06<00:00, 26.32it/s]\n",
      "Training Batches: 100%|██████████| 162/162 [00:06<00:00, 26.33it/s]\n",
      "Training Batches: 100%|██████████| 162/162 [00:06<00:00, 26.32it/s]\n",
      "Training Batches: 100%|██████████| 162/162 [00:06<00:00, 26.32it/s]\n",
      "Training Batches: 100%|██████████| 162/162 [00:06<00:00, 26.36it/s]\n",
      "Training Batches: 100%|██████████| 162/162 [00:06<00:00, 26.26it/s]\n",
      "Training Batches: 100%|██████████| 162/162 [00:06<00:00, 26.27it/s]\n",
      "Training Batches: 100%|██████████| 162/162 [00:06<00:00, 26.29it/s]\n",
      "Training Batches: 100%|██████████| 162/162 [00:06<00:00, 26.39it/s]\n",
      "Training Batches: 100%|██████████| 162/162 [00:06<00:00, 26.15it/s]\n",
      "Training Batches: 100%|██████████| 162/162 [00:06<00:00, 26.00it/s]\n",
      "Training Batches: 100%|██████████| 162/162 [00:06<00:00, 26.41it/s]\n",
      "Training Batches: 100%|██████████| 162/162 [00:06<00:00, 26.42it/s]\n",
      "Training Batches: 100%|██████████| 162/162 [00:06<00:00, 26.29it/s]\n",
      "Training Batches: 100%|██████████| 162/162 [00:06<00:00, 26.32it/s]\n",
      "Training Progress: 100%|██████████| 40/40 [04:13<00:00,  6.35s/it]\n",
      "2025-02-17 19:29:26,216 INFO     Training shadow model 1 complete\n",
      "2025-02-17 19:29:26,218 INFO     Saved shadow model 1 to ./leakpro_output/attack_objects/shadow_model\n",
      "2025-02-17 19:29:26,218 INFO     Storing metadata for shadow model 1\n",
      "2025-02-17 19:29:26,219 INFO     Metadata for shadow model 1 stored in ./leakpro_output/attack_objects/shadow_model\n",
      "2025-02-17 19:29:26,335 INFO     Training shadow model 2 on 11988 points\n",
      "Training Batches: 100%|██████████| 162/162 [00:06<00:00, 26.48it/s]\n",
      "Training Batches: 100%|██████████| 162/162 [00:06<00:00, 26.58it/s]\n",
      "Training Batches: 100%|██████████| 162/162 [00:06<00:00, 26.58it/s]\n",
      "Training Batches: 100%|██████████| 162/162 [00:06<00:00, 26.57it/s]\n",
      "Training Batches: 100%|██████████| 162/162 [00:06<00:00, 26.50it/s]\n",
      "Training Batches: 100%|██████████| 162/162 [00:06<00:00, 26.45it/s]\n",
      "Training Batches: 100%|██████████| 162/162 [00:06<00:00, 26.83it/s]\n",
      "Training Batches: 100%|██████████| 162/162 [00:06<00:00, 26.62it/s]\n",
      "Training Batches: 100%|██████████| 162/162 [00:06<00:00, 26.62it/s]\n",
      "Training Batches: 100%|██████████| 162/162 [00:06<00:00, 26.70it/s]\n",
      "Training Batches: 100%|██████████| 162/162 [00:06<00:00, 26.77it/s]\n",
      "Training Batches: 100%|██████████| 162/162 [00:06<00:00, 26.62it/s]\n",
      "Training Batches: 100%|██████████| 162/162 [00:06<00:00, 26.72it/s]\n",
      "Training Batches: 100%|██████████| 162/162 [00:06<00:00, 26.78it/s]\n",
      "Training Batches: 100%|██████████| 162/162 [00:06<00:00, 26.69it/s]\n",
      "Training Batches: 100%|██████████| 162/162 [00:06<00:00, 26.76it/s]\n",
      "Training Batches: 100%|██████████| 162/162 [00:06<00:00, 26.68it/s]\n",
      "Training Batches: 100%|██████████| 162/162 [00:06<00:00, 26.69it/s]\n",
      "Training Batches: 100%|██████████| 162/162 [00:06<00:00, 26.61it/s]\n",
      "Training Batches: 100%|██████████| 162/162 [00:06<00:00, 26.71it/s]\n",
      "Training Batches: 100%|██████████| 162/162 [00:06<00:00, 26.62it/s]\n",
      "Training Batches: 100%|██████████| 162/162 [00:06<00:00, 26.52it/s]\n",
      "Training Batches: 100%|██████████| 162/162 [00:06<00:00, 26.56it/s]\n",
      "Training Batches: 100%|██████████| 162/162 [00:06<00:00, 26.53it/s]\n",
      "Training Batches: 100%|██████████| 162/162 [00:06<00:00, 26.61it/s]\n",
      "Training Batches: 100%|██████████| 162/162 [00:06<00:00, 26.56it/s]\n",
      "Training Batches: 100%|██████████| 162/162 [00:06<00:00, 26.61it/s]\n",
      "Training Batches: 100%|██████████| 162/162 [00:06<00:00, 26.56it/s]\n",
      "Training Batches: 100%|██████████| 162/162 [00:06<00:00, 26.44it/s]\n",
      "Training Batches: 100%|██████████| 162/162 [00:06<00:00, 26.50it/s]\n",
      "Training Batches: 100%|██████████| 162/162 [00:06<00:00, 26.62it/s]\n",
      "Training Batches: 100%|██████████| 162/162 [00:06<00:00, 26.66it/s]\n",
      "Training Batches: 100%|██████████| 162/162 [00:06<00:00, 26.68it/s]\n",
      "Training Batches: 100%|██████████| 162/162 [00:06<00:00, 26.69it/s]\n",
      "Training Batches: 100%|██████████| 162/162 [00:06<00:00, 26.51it/s]\n",
      "Training Batches: 100%|██████████| 162/162 [00:06<00:00, 26.68it/s]\n",
      "Training Batches: 100%|██████████| 162/162 [00:06<00:00, 26.70it/s]\n",
      "Training Batches: 100%|██████████| 162/162 [00:06<00:00, 26.60it/s]\n",
      "Training Batches: 100%|██████████| 162/162 [00:06<00:00, 26.50it/s]\n",
      "Training Batches: 100%|██████████| 162/162 [00:06<00:00, 26.59it/s]\n",
      "Training Progress: 100%|██████████| 40/40 [04:03<00:00,  6.09s/it]\n",
      "2025-02-17 19:33:29,916 INFO     Training shadow model 2 complete\n",
      "2025-02-17 19:33:29,918 INFO     Saved shadow model 2 to ./leakpro_output/attack_objects/shadow_model\n",
      "2025-02-17 19:33:29,918 INFO     Storing metadata for shadow model 2\n",
      "2025-02-17 19:33:29,919 INFO     Metadata for shadow model 2 stored in ./leakpro_output/attack_objects/shadow_model\n",
      "2025-02-17 19:33:30,033 INFO     Training shadow model 3 on 11988 points\n",
      "Training Batches: 100%|██████████| 162/162 [00:06<00:00, 26.65it/s]\n",
      "Training Batches: 100%|██████████| 162/162 [00:06<00:00, 26.84it/s]\n",
      "Training Batches: 100%|██████████| 162/162 [00:06<00:00, 26.79it/s]\n",
      "Training Batches: 100%|██████████| 162/162 [00:06<00:00, 26.82it/s]\n",
      "Training Batches: 100%|██████████| 162/162 [00:06<00:00, 26.82it/s]\n",
      "Training Batches: 100%|██████████| 162/162 [00:06<00:00, 26.87it/s]\n",
      "Training Batches: 100%|██████████| 162/162 [00:06<00:00, 26.81it/s]\n",
      "Training Batches: 100%|██████████| 162/162 [00:06<00:00, 26.86it/s]\n",
      "Training Batches: 100%|██████████| 162/162 [00:06<00:00, 26.77it/s]\n",
      "Training Batches: 100%|██████████| 162/162 [00:06<00:00, 26.84it/s]\n",
      "Training Batches: 100%|██████████| 162/162 [00:06<00:00, 26.89it/s]\n",
      "Training Batches: 100%|██████████| 162/162 [00:06<00:00, 26.90it/s]\n",
      "Training Batches: 100%|██████████| 162/162 [00:06<00:00, 26.92it/s]\n",
      "Training Batches: 100%|██████████| 162/162 [00:06<00:00, 26.82it/s]\n",
      "Training Batches: 100%|██████████| 162/162 [00:06<00:00, 26.81it/s]\n",
      "Training Batches: 100%|██████████| 162/162 [00:06<00:00, 26.86it/s]\n",
      "Training Batches: 100%|██████████| 162/162 [00:06<00:00, 26.84it/s]\n",
      "Training Batches: 100%|██████████| 162/162 [00:06<00:00, 26.79it/s]\n",
      "Training Batches: 100%|██████████| 162/162 [00:06<00:00, 26.86it/s]\n",
      "Training Batches: 100%|██████████| 162/162 [00:06<00:00, 26.79it/s]\n",
      "Training Batches: 100%|██████████| 162/162 [00:06<00:00, 26.86it/s]\n",
      "Training Batches: 100%|██████████| 162/162 [00:06<00:00, 26.80it/s]\n",
      "Training Batches: 100%|██████████| 162/162 [00:06<00:00, 26.78it/s]\n",
      "Training Batches: 100%|██████████| 162/162 [00:06<00:00, 26.83it/s]\n",
      "Training Batches: 100%|██████████| 162/162 [00:06<00:00, 26.79it/s]\n",
      "Training Batches: 100%|██████████| 162/162 [00:06<00:00, 26.80it/s]\n",
      "Training Batches: 100%|██████████| 162/162 [00:06<00:00, 26.92it/s]\n",
      "Training Batches: 100%|██████████| 162/162 [00:06<00:00, 26.91it/s]\n",
      "Training Batches: 100%|██████████| 162/162 [00:06<00:00, 26.86it/s]\n",
      "Training Batches: 100%|██████████| 162/162 [00:06<00:00, 26.79it/s]\n",
      "Training Batches: 100%|██████████| 162/162 [00:06<00:00, 26.80it/s]\n",
      "Training Batches: 100%|██████████| 162/162 [00:06<00:00, 26.52it/s]\n",
      "Training Batches: 100%|██████████| 162/162 [00:06<00:00, 26.44it/s]\n",
      "Training Batches: 100%|██████████| 162/162 [00:06<00:00, 26.41it/s]\n",
      "Training Batches: 100%|██████████| 162/162 [00:06<00:00, 26.67it/s]\n",
      "Training Batches: 100%|██████████| 162/162 [00:06<00:00, 26.54it/s]\n",
      "Training Batches: 100%|██████████| 162/162 [00:06<00:00, 26.33it/s]\n",
      "Training Batches: 100%|██████████| 162/162 [00:06<00:00, 26.47it/s]\n",
      "Training Batches: 100%|██████████| 162/162 [00:06<00:00, 26.21it/s]\n",
      "Training Batches: 100%|██████████| 162/162 [00:06<00:00, 26.25it/s]\n",
      "Training Progress: 100%|██████████| 40/40 [04:02<00:00,  6.06s/it]\n",
      "2025-02-17 19:37:32,519 INFO     Training shadow model 3 complete\n",
      "2025-02-17 19:37:32,521 INFO     Saved shadow model 3 to ./leakpro_output/attack_objects/shadow_model\n",
      "2025-02-17 19:37:32,522 INFO     Storing metadata for shadow model 3\n",
      "2025-02-17 19:37:32,523 INFO     Metadata for shadow model 3 stored in ./leakpro_output/attack_objects/shadow_model\n",
      "2025-02-17 19:37:32,635 INFO     Training shadow model 4 on 11988 points\n",
      "Training Batches: 100%|██████████| 162/162 [00:06<00:00, 25.88it/s]\n",
      "Training Batches: 100%|██████████| 162/162 [00:06<00:00, 25.97it/s]\n",
      "Training Batches: 100%|██████████| 162/162 [00:06<00:00, 26.18it/s]\n",
      "Training Batches: 100%|██████████| 162/162 [00:06<00:00, 26.31it/s]\n",
      "Training Batches: 100%|██████████| 162/162 [00:06<00:00, 26.39it/s]\n",
      "Training Batches: 100%|██████████| 162/162 [00:06<00:00, 26.33it/s]\n",
      "Training Batches: 100%|██████████| 162/162 [00:06<00:00, 26.38it/s]\n",
      "Training Batches: 100%|██████████| 162/162 [00:06<00:00, 26.36it/s]\n",
      "Training Batches: 100%|██████████| 162/162 [00:06<00:00, 26.42it/s]\n",
      "Training Batches: 100%|██████████| 162/162 [00:06<00:00, 26.36it/s]\n",
      "Training Batches: 100%|██████████| 162/162 [00:06<00:00, 26.24it/s]\n",
      "Training Batches: 100%|██████████| 162/162 [00:06<00:00, 26.38it/s]\n",
      "Training Batches: 100%|██████████| 162/162 [00:06<00:00, 26.40it/s]\n",
      "Training Batches: 100%|██████████| 162/162 [00:06<00:00, 26.45it/s]\n",
      "Training Batches: 100%|██████████| 162/162 [00:06<00:00, 26.42it/s]\n",
      "Training Batches: 100%|██████████| 162/162 [00:06<00:00, 26.61it/s]\n",
      "Training Batches: 100%|██████████| 162/162 [00:06<00:00, 26.48it/s]\n",
      "Training Batches: 100%|██████████| 162/162 [00:06<00:00, 26.67it/s]\n",
      "Training Batches: 100%|██████████| 162/162 [00:06<00:00, 26.51it/s]\n",
      "Training Batches: 100%|██████████| 162/162 [00:06<00:00, 26.50it/s]\n",
      "Training Batches: 100%|██████████| 162/162 [00:06<00:00, 26.54it/s]\n",
      "Training Batches: 100%|██████████| 162/162 [00:06<00:00, 26.71it/s]\n",
      "Training Batches: 100%|██████████| 162/162 [00:06<00:00, 26.60it/s]\n",
      "Training Batches: 100%|██████████| 162/162 [00:06<00:00, 26.61it/s]\n",
      "Training Batches: 100%|██████████| 162/162 [00:06<00:00, 26.60it/s]\n",
      "Training Batches: 100%|██████████| 162/162 [00:06<00:00, 26.63it/s]\n",
      "Training Batches: 100%|██████████| 162/162 [00:06<00:00, 26.59it/s]\n",
      "Training Batches: 100%|██████████| 162/162 [00:06<00:00, 26.69it/s]\n",
      "Training Batches: 100%|██████████| 162/162 [00:06<00:00, 26.83it/s]\n",
      "Training Batches: 100%|██████████| 162/162 [00:06<00:00, 26.66it/s]\n",
      "Training Batches: 100%|██████████| 162/162 [00:06<00:00, 26.70it/s]\n",
      "Training Batches: 100%|██████████| 162/162 [00:06<00:00, 26.65it/s]\n",
      "Training Batches: 100%|██████████| 162/162 [00:06<00:00, 26.65it/s]\n",
      "Training Batches: 100%|██████████| 162/162 [00:06<00:00, 26.53it/s]\n",
      "Training Batches: 100%|██████████| 162/162 [00:06<00:00, 26.12it/s]\n",
      "Training Batches: 100%|██████████| 162/162 [00:06<00:00, 26.46it/s]\n",
      "Training Batches: 100%|██████████| 162/162 [00:06<00:00, 26.57it/s]\n",
      "Training Batches: 100%|██████████| 162/162 [00:06<00:00, 26.40it/s]\n",
      "Training Batches: 100%|██████████| 162/162 [00:06<00:00, 26.36it/s]\n",
      "Training Batches: 100%|██████████| 162/162 [00:06<00:00, 26.05it/s]\n",
      "Training Progress: 100%|██████████| 40/40 [04:05<00:00,  6.13s/it]\n",
      "2025-02-17 19:41:37,739 INFO     Training shadow model 4 complete\n",
      "2025-02-17 19:41:37,741 INFO     Saved shadow model 4 to ./leakpro_output/attack_objects/shadow_model\n",
      "2025-02-17 19:41:37,741 INFO     Storing metadata for shadow model 4\n",
      "2025-02-17 19:41:37,742 INFO     Metadata for shadow model 4 stored in ./leakpro_output/attack_objects/shadow_model\n",
      "2025-02-17 19:41:37,830 INFO     Training shadow model 5 on 11988 points\n",
      "Training Batches: 100%|██████████| 162/162 [00:06<00:00, 25.76it/s]\n",
      "Training Batches: 100%|██████████| 162/162 [00:06<00:00, 26.28it/s]\n",
      "Training Batches: 100%|██████████| 162/162 [00:06<00:00, 26.36it/s]\n",
      "Training Batches: 100%|██████████| 162/162 [00:06<00:00, 26.38it/s]\n",
      "Training Batches: 100%|██████████| 162/162 [00:06<00:00, 26.37it/s]\n",
      "Training Batches: 100%|██████████| 162/162 [00:06<00:00, 26.50it/s]\n",
      "Training Batches: 100%|██████████| 162/162 [00:06<00:00, 26.49it/s]\n",
      "Training Batches: 100%|██████████| 162/162 [00:06<00:00, 26.56it/s]\n",
      "Training Batches: 100%|██████████| 162/162 [00:06<00:00, 26.37it/s]\n",
      "Training Batches: 100%|██████████| 162/162 [00:06<00:00, 26.40it/s]\n",
      "Training Batches: 100%|██████████| 162/162 [00:06<00:00, 26.44it/s]\n",
      "Training Batches: 100%|██████████| 162/162 [00:06<00:00, 26.34it/s]\n",
      "Training Batches: 100%|██████████| 162/162 [00:06<00:00, 26.21it/s]\n",
      "Training Batches: 100%|██████████| 162/162 [00:06<00:00, 26.37it/s]\n",
      "Training Batches: 100%|██████████| 162/162 [00:06<00:00, 26.44it/s]\n",
      "Training Batches: 100%|██████████| 162/162 [00:06<00:00, 26.49it/s]\n",
      "Training Batches: 100%|██████████| 162/162 [00:06<00:00, 26.62it/s]\n",
      "Training Batches: 100%|██████████| 162/162 [00:06<00:00, 26.65it/s]\n",
      "Training Batches: 100%|██████████| 162/162 [00:06<00:00, 26.60it/s]\n",
      "Training Batches: 100%|██████████| 162/162 [00:06<00:00, 26.67it/s]\n",
      "Training Batches: 100%|██████████| 162/162 [00:06<00:00, 26.57it/s]\n",
      "Training Batches: 100%|██████████| 162/162 [00:06<00:00, 26.51it/s]\n",
      "Training Batches: 100%|██████████| 162/162 [00:06<00:00, 26.51it/s]\n",
      "Training Batches: 100%|██████████| 162/162 [00:06<00:00, 26.41it/s]\n",
      "Training Batches: 100%|██████████| 162/162 [00:06<00:00, 26.43it/s]\n",
      "Training Batches: 100%|██████████| 162/162 [00:06<00:00, 26.50it/s]\n",
      "Training Batches: 100%|██████████| 162/162 [00:06<00:00, 26.46it/s]\n",
      "Training Batches: 100%|██████████| 162/162 [00:06<00:00, 26.44it/s]\n",
      "Training Batches: 100%|██████████| 162/162 [00:06<00:00, 26.45it/s]\n",
      "Training Batches: 100%|██████████| 162/162 [00:06<00:00, 26.49it/s]\n",
      "Training Batches: 100%|██████████| 162/162 [00:06<00:00, 26.48it/s]\n",
      "Training Batches: 100%|██████████| 162/162 [00:06<00:00, 26.64it/s]\n",
      "Training Batches: 100%|██████████| 162/162 [00:06<00:00, 26.63it/s]\n",
      "Training Batches: 100%|██████████| 162/162 [00:06<00:00, 26.86it/s]\n",
      "Training Batches: 100%|██████████| 162/162 [00:06<00:00, 26.58it/s]\n",
      "Training Batches: 100%|██████████| 162/162 [00:06<00:00, 26.51it/s]\n",
      "Training Batches: 100%|██████████| 162/162 [00:06<00:00, 26.57it/s]\n",
      "Training Batches: 100%|██████████| 162/162 [00:06<00:00, 26.36it/s]\n",
      "Training Batches: 100%|██████████| 162/162 [00:06<00:00, 26.35it/s]\n",
      "Training Batches: 100%|██████████| 162/162 [00:06<00:00, 26.29it/s]\n",
      "Training Progress: 100%|██████████| 40/40 [04:05<00:00,  6.13s/it]\n",
      "2025-02-17 19:45:42,875 INFO     Training shadow model 5 complete\n",
      "2025-02-17 19:45:42,876 INFO     Saved shadow model 5 to ./leakpro_output/attack_objects/shadow_model\n",
      "2025-02-17 19:45:42,877 INFO     Storing metadata for shadow model 5\n",
      "2025-02-17 19:45:42,878 INFO     Metadata for shadow model 5 stored in ./leakpro_output/attack_objects/shadow_model\n",
      "2025-02-17 19:45:43,003 INFO     Training shadow model 6 on 11988 points\n",
      "Training Batches: 100%|██████████| 162/162 [00:06<00:00, 25.23it/s]\n",
      "Training Batches: 100%|██████████| 162/162 [00:06<00:00, 26.69it/s]\n",
      "Training Batches: 100%|██████████| 162/162 [00:06<00:00, 26.85it/s]\n",
      "Training Batches: 100%|██████████| 162/162 [00:06<00:00, 26.70it/s]\n",
      "Training Batches: 100%|██████████| 162/162 [00:06<00:00, 26.76it/s]\n",
      "Training Batches: 100%|██████████| 162/162 [00:06<00:00, 26.82it/s]\n",
      "Training Batches: 100%|██████████| 162/162 [00:06<00:00, 26.42it/s]\n",
      "Training Batches: 100%|██████████| 162/162 [00:06<00:00, 26.37it/s]\n",
      "Training Batches: 100%|██████████| 162/162 [00:06<00:00, 26.42it/s]\n",
      "Training Batches: 100%|██████████| 162/162 [00:06<00:00, 26.43it/s]\n",
      "Training Batches: 100%|██████████| 162/162 [00:06<00:00, 26.56it/s]\n",
      "Training Batches: 100%|██████████| 162/162 [00:06<00:00, 26.73it/s]\n",
      "Training Batches: 100%|██████████| 162/162 [00:06<00:00, 26.80it/s]\n",
      "Training Batches: 100%|██████████| 162/162 [00:06<00:00, 26.70it/s]\n",
      "Training Batches: 100%|██████████| 162/162 [00:06<00:00, 26.70it/s]\n",
      "Training Batches: 100%|██████████| 162/162 [00:06<00:00, 26.71it/s]\n",
      "Training Batches: 100%|██████████| 162/162 [00:06<00:00, 26.77it/s]\n",
      "Training Batches: 100%|██████████| 162/162 [00:05<00:00, 28.26it/s]\n",
      "Training Batches: 100%|██████████| 162/162 [00:05<00:00, 29.16it/s]\n",
      "Training Batches: 100%|██████████| 162/162 [00:05<00:00, 29.20it/s]\n",
      "Training Batches: 100%|██████████| 162/162 [00:05<00:00, 29.20it/s]\n",
      "Training Batches: 100%|██████████| 162/162 [00:05<00:00, 27.37it/s]\n",
      "Training Batches: 100%|██████████| 162/162 [00:06<00:00, 26.51it/s]\n",
      "Training Batches: 100%|██████████| 162/162 [00:06<00:00, 26.48it/s]\n",
      "Training Batches: 100%|██████████| 162/162 [00:06<00:00, 26.40it/s]\n",
      "Training Batches: 100%|██████████| 162/162 [00:06<00:00, 26.41it/s]\n",
      "Training Batches: 100%|██████████| 162/162 [00:06<00:00, 26.44it/s]\n",
      "Training Batches: 100%|██████████| 162/162 [00:06<00:00, 26.37it/s]\n",
      "Training Batches: 100%|██████████| 162/162 [00:06<00:00, 26.37it/s]\n",
      "Training Batches: 100%|██████████| 162/162 [00:06<00:00, 26.37it/s]\n",
      "Training Batches: 100%|██████████| 162/162 [00:06<00:00, 26.63it/s]\n",
      "Training Batches: 100%|██████████| 162/162 [00:06<00:00, 26.56it/s]\n",
      "Training Batches: 100%|██████████| 162/162 [00:06<00:00, 26.73it/s]\n",
      "Training Batches: 100%|██████████| 162/162 [00:06<00:00, 26.50it/s]\n",
      "Training Batches: 100%|██████████| 162/162 [00:06<00:00, 26.51it/s]\n",
      "Training Batches: 100%|██████████| 162/162 [00:05<00:00, 27.96it/s]\n",
      "Training Batches: 100%|██████████| 162/162 [00:05<00:00, 29.07it/s]\n",
      "Training Batches: 100%|██████████| 162/162 [00:05<00:00, 29.16it/s]\n",
      "Training Batches: 100%|██████████| 162/162 [00:05<00:00, 29.19it/s]\n",
      "Training Batches: 100%|██████████| 162/162 [00:05<00:00, 29.19it/s]\n",
      "Training Progress: 100%|██████████| 40/40 [03:59<00:00,  5.99s/it]\n",
      "2025-02-17 19:49:42,647 INFO     Training shadow model 6 complete\n",
      "2025-02-17 19:49:42,648 INFO     Saved shadow model 6 to ./leakpro_output/attack_objects/shadow_model\n",
      "2025-02-17 19:49:42,649 INFO     Storing metadata for shadow model 6\n",
      "2025-02-17 19:49:42,650 INFO     Metadata for shadow model 6 stored in ./leakpro_output/attack_objects/shadow_model\n",
      "2025-02-17 19:49:42,744 INFO     Training shadow model 7 on 11988 points\n",
      "Training Batches: 100%|██████████| 162/162 [00:06<00:00, 23.57it/s]\n",
      "Training Batches: 100%|██████████| 162/162 [00:06<00:00, 23.61it/s]\n",
      "Training Batches: 100%|██████████| 162/162 [00:06<00:00, 23.63it/s]\n",
      "Training Batches: 100%|██████████| 162/162 [00:06<00:00, 26.34it/s]\n",
      "Training Batches: 100%|██████████| 162/162 [00:06<00:00, 26.78it/s]\n",
      "Training Batches: 100%|██████████| 162/162 [00:06<00:00, 26.70it/s]\n",
      "Training Batches: 100%|██████████| 162/162 [00:06<00:00, 26.73it/s]\n",
      "Training Batches: 100%|██████████| 162/162 [00:06<00:00, 26.71it/s]\n",
      "Training Batches: 100%|██████████| 162/162 [00:06<00:00, 26.66it/s]\n",
      "Training Batches: 100%|██████████| 162/162 [00:06<00:00, 26.49it/s]\n",
      "Training Batches: 100%|██████████| 162/162 [00:06<00:00, 26.65it/s]\n",
      "Training Batches: 100%|██████████| 162/162 [00:06<00:00, 26.70it/s]\n",
      "Training Batches: 100%|██████████| 162/162 [00:06<00:00, 26.71it/s]\n",
      "Training Batches: 100%|██████████| 162/162 [00:06<00:00, 26.57it/s]\n",
      "Training Batches: 100%|██████████| 162/162 [00:06<00:00, 26.79it/s]\n",
      "Training Batches: 100%|██████████| 162/162 [00:05<00:00, 29.24it/s]\n",
      "Training Batches: 100%|██████████| 162/162 [00:05<00:00, 29.25it/s]\n",
      "Training Batches: 100%|██████████| 162/162 [00:05<00:00, 29.22it/s]\n",
      "Training Batches: 100%|██████████| 162/162 [00:05<00:00, 29.19it/s]\n",
      "Training Batches: 100%|██████████| 162/162 [00:05<00:00, 29.24it/s]\n",
      "Training Batches: 100%|██████████| 162/162 [00:05<00:00, 29.24it/s]\n",
      "Training Batches: 100%|██████████| 162/162 [00:05<00:00, 29.17it/s]\n",
      "Training Batches: 100%|██████████| 162/162 [00:05<00:00, 29.20it/s]\n",
      "Training Batches: 100%|██████████| 162/162 [00:05<00:00, 29.20it/s]\n",
      "Training Batches: 100%|██████████| 162/162 [00:05<00:00, 29.27it/s]\n",
      "Training Batches: 100%|██████████| 162/162 [00:05<00:00, 29.16it/s]\n",
      "Training Batches: 100%|██████████| 162/162 [00:05<00:00, 29.20it/s]\n",
      "Training Batches: 100%|██████████| 162/162 [00:05<00:00, 29.23it/s]\n",
      "Training Batches: 100%|██████████| 162/162 [00:05<00:00, 29.18it/s]\n",
      "Training Batches: 100%|██████████| 162/162 [00:05<00:00, 27.07it/s]\n",
      "Training Batches: 100%|██████████| 162/162 [00:06<00:00, 26.60it/s]\n",
      "Training Batches: 100%|██████████| 162/162 [00:06<00:00, 26.68it/s]\n",
      "Training Batches: 100%|██████████| 162/162 [00:06<00:00, 26.75it/s]\n",
      "Training Batches: 100%|██████████| 162/162 [00:06<00:00, 26.70it/s]\n",
      "Training Batches: 100%|██████████| 162/162 [00:06<00:00, 26.74it/s]\n",
      "Training Batches: 100%|██████████| 162/162 [00:06<00:00, 26.73it/s]\n",
      "Training Batches: 100%|██████████| 162/162 [00:06<00:00, 26.67it/s]\n",
      "Training Batches: 100%|██████████| 162/162 [00:06<00:00, 26.78it/s]\n",
      "Training Batches: 100%|██████████| 162/162 [00:06<00:00, 26.73it/s]\n",
      "Training Batches: 100%|██████████| 162/162 [00:06<00:00, 26.66it/s]\n",
      "Training Progress: 100%|██████████| 40/40 [03:57<00:00,  5.95s/it]\n",
      "2025-02-17 19:53:40,682 INFO     Training shadow model 7 complete\n",
      "2025-02-17 19:53:40,684 INFO     Saved shadow model 7 to ./leakpro_output/attack_objects/shadow_model\n",
      "2025-02-17 19:53:40,685 INFO     Storing metadata for shadow model 7\n",
      "2025-02-17 19:53:40,685 INFO     Metadata for shadow model 7 stored in ./leakpro_output/attack_objects/shadow_model\n",
      "2025-02-17 19:53:40,746 INFO     Loading shadow model 0\n",
      "/home/fazeleh/LeakPro/leakpro/attacks/utils/model_handler.py:162: FutureWarning: You are using `torch.load` with `weights_only=False` (the current default value), which uses the default pickle module implicitly. It is possible to construct malicious pickle data which will execute arbitrary code during unpickling (See https://github.com/pytorch/pytorch/blob/main/SECURITY.md#untrusted-models for more details). In a future release, the default value for `weights_only` will be flipped to `True`. This limits the functions that could be executed during unpickling. Arbitrary objects will no longer be allowed to be loaded via this mode unless they are explicitly allowlisted by the user via `torch.serialization.add_safe_globals`. We recommend you start setting `weights_only=True` for any use case where you don't have full control of the loaded file. Please open an issue on GitHub for any issues related to this experimental feature.\n",
      "  model.load_state_dict(load(f))\n",
      "2025-02-17 19:53:40,750 INFO     Loaded model from ./leakpro_output/attack_objects/shadow_model/shadow_model_0.pkl\n",
      "2025-02-17 19:53:40,751 INFO     Loading shadow model 1\n",
      "2025-02-17 19:53:40,755 INFO     Loaded model from ./leakpro_output/attack_objects/shadow_model/shadow_model_1.pkl\n",
      "2025-02-17 19:53:40,755 INFO     Loading shadow model 2\n",
      "2025-02-17 19:53:40,759 INFO     Loaded model from ./leakpro_output/attack_objects/shadow_model/shadow_model_2.pkl\n",
      "2025-02-17 19:53:40,760 INFO     Loading shadow model 3\n",
      "2025-02-17 19:53:40,763 INFO     Loaded model from ./leakpro_output/attack_objects/shadow_model/shadow_model_3.pkl\n",
      "2025-02-17 19:53:40,763 INFO     Loading shadow model 4\n",
      "2025-02-17 19:53:40,766 INFO     Loaded model from ./leakpro_output/attack_objects/shadow_model/shadow_model_4.pkl\n",
      "2025-02-17 19:53:40,767 INFO     Loading shadow model 5\n",
      "2025-02-17 19:53:40,770 INFO     Loaded model from ./leakpro_output/attack_objects/shadow_model/shadow_model_5.pkl\n",
      "2025-02-17 19:53:40,771 INFO     Loading shadow model 6\n",
      "2025-02-17 19:53:40,774 INFO     Loaded model from ./leakpro_output/attack_objects/shadow_model/shadow_model_6.pkl\n",
      "2025-02-17 19:53:40,775 INFO     Loading shadow model 7\n",
      "2025-02-17 19:53:40,778 INFO     Loaded model from ./leakpro_output/attack_objects/shadow_model/shadow_model_7.pkl\n",
      "2025-02-17 19:53:40,778 INFO     Running attack: rmia\n",
      "2025-02-17 19:53:40,779 INFO     Running RMIA online attack\n",
      "2025-02-17 19:53:40,779 INFO     Loading metadata 0\n",
      "2025-02-17 19:53:40,780 INFO     Loading metadata 1\n",
      "2025-02-17 19:53:40,781 INFO     Loading metadata 2\n",
      "2025-02-17 19:53:40,782 INFO     Loading metadata 3\n",
      "2025-02-17 19:53:40,782 INFO     Loading metadata 4\n",
      "2025-02-17 19:53:40,783 INFO     Loading metadata 5\n",
      "2025-02-17 19:53:40,784 INFO     Loading metadata 6\n",
      "2025-02-17 19:53:40,784 INFO     Loading metadata 7\n",
      "2025-02-17 19:53:41,240 INFO     Number of points in the audit dataset that are used for online attack: 19010\n",
      "2025-02-17 19:55:05,453 INFO     Subsampling attack data from 4790 points       \n",
      "2025-02-17 19:55:05,454 INFO     Number of attack data points after subsampling: 2395\n",
      "2025-02-17 19:55:17,089 INFO     Finished attack: rmia                        \n",
      "2025-02-17 19:55:17,090 INFO     Preparing results for attack: rmia\n",
      "2025-02-17 19:55:17,091 INFO     Auditing completed\n"
     ]
    }
   ],
   "source": [
    "from mimic_gru_handler import MimicInputHandlerGRU\n",
    "\n",
    "from leakpro import LeakPro\n",
    "\n",
    "# Read the config file\n",
    "config_path = \"audit.yaml\"\n",
    "\n",
    "# Prepare leakpro object\n",
    "leakpro = LeakPro(MimicInputHandlerGRU, config_path)\n",
    "\n",
    "# Run the audit\n",
    "mia_results = leakpro.run_audit(return_results=True)"
   ]
  },
  {
   "cell_type": "markdown",
   "metadata": {},
   "source": [
    "## Report Genrating"
   ]
  },
  {
   "cell_type": "code",
   "execution_count": 10,
   "metadata": {},
   "outputs": [
    {
     "name": "stderr",
     "output_type": "stream",
     "text": [
      "2025-02-17 19:55:17,404 INFO     Initializing report handler...\n",
      "2025-02-17 19:55:17,405 INFO     report_dir set to: ./leakpro_output/results\n",
      "2025-02-17 19:55:17,405 INFO     Saving results for rmia\n"
     ]
    },
    {
     "data": {
      "text/plain": [
       "<Figure size 640x480 with 0 Axes>"
      ]
     },
     "metadata": {},
     "output_type": "display_data"
    }
   ],
   "source": [
    "\n",
    "# Import and initialize ReportHandler\n",
    "from leakpro.reporting.report_handler import ReportHandler\n",
    "\n",
    "# report_handler = ReportHandler()\n",
    "report_handler = ReportHandler(report_dir=\"./leakpro_output/results\")\n",
    "\n",
    "# Save MIA resuls using report handler\n",
    "for res in mia_results:\n",
    "    report_handler.save_results(attack_name=res.attack_name, result_data=res, config=res.configs)"
   ]
  },
  {
   "cell_type": "code",
   "execution_count": 11,
   "metadata": {},
   "outputs": [
    {
     "name": "stderr",
     "output_type": "stream",
     "text": [
      "2025-02-17 19:55:27,515 INFO     No results of type GIAResults found.\n",
      "2025-02-17 19:55:27,517 INFO     No results of type SinglingOutResults found.\n",
      "2025-02-17 19:55:27,517 INFO     No results of type InferenceResults found.\n",
      "2025-02-17 19:55:27,517 INFO     No results of type LinkabilityResults found.\n",
      "2025-02-17 19:55:32,778 INFO     PDF compiled\n"
     ]
    },
    {
     "data": {
      "text/plain": [
       "<Figure size 640x480 with 0 Axes>"
      ]
     },
     "metadata": {},
     "output_type": "display_data"
    }
   ],
   "source": [
    "\n",
    "# # Create the report by compiling the latex text\n",
    "report_handler.create_report()"
   ]
  },
  {
   "cell_type": "code",
   "execution_count": null,
   "metadata": {},
   "outputs": [],
   "source": []
  }
 ],
 "metadata": {
  "kernelspec": {
   "display_name": "leakpro_test",
   "language": "python",
   "name": "python3"
  },
  "language_info": {
   "codemirror_mode": {
    "name": "ipython",
    "version": 3
   },
   "file_extension": ".py",
   "mimetype": "text/x-python",
   "name": "python",
   "nbconvert_exporter": "python",
   "pygments_lexer": "ipython3",
   "version": "3.11.11"
  }
 },
 "nbformat": 4,
 "nbformat_minor": 2
}
