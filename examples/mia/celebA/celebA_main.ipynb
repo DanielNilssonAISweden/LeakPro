{
 "cells": [
  {
   "cell_type": "markdown",
   "metadata": {},
   "source": [
    "# CelebA examples\n"
   ]
  },
  {
   "cell_type": "code",
   "execution_count": null,
   "metadata": {},
   "outputs": [],
   "source": [
    "%reload_ext autoreload\n",
    "%autoreload 2"
   ]
  },
  {
   "cell_type": "code",
   "execution_count": null,
   "metadata": {},
   "outputs": [],
   "source": [
    "import os\n",
    "import sys\n",
    "import yaml\n",
    "\n",
    "project_root = os.path.abspath(os.path.join(os.getcwd(), \"../../..\"))\n",
    "sys.path.append(project_root)"
   ]
  },
  {
   "cell_type": "code",
   "execution_count": null,
   "metadata": {},
   "outputs": [],
   "source": [
    "from examples.mia.celebA.utils.celebA_data_preparation import get_celebA_dataloader\n",
    "from examples.mia.celebA.utils.celebA_model import ResNet50, create_trained_model_and_metadata\n",
    "\n",
    "\n",
    "# Load the config.yaml file\n",
    "with open('train_config.yaml', 'r') as file:\n",
    "    train_config = yaml.safe_load(file)\n",
    "\n",
    "# Generate the dataset and dataloaders\n",
    "path = os.path.join(os.getcwd(), train_config[\"data\"][\"data_dir\"])\n"
   ]
  },
  {
   "cell_type": "code",
   "execution_count": 5,
   "metadata": {},
   "outputs": [
    {
     "name": "stdout",
     "output_type": "stream",
     "text": [
      "Files already downloaded and verified\n"
     ]
    },
    {
     "ename": "AttributeError",
     "evalue": "'CelebA' object has no attribute 'data'",
     "output_type": "error",
     "traceback": [
      "\u001b[0;31m---------------------------------------------------------------------------\u001b[0m",
      "\u001b[0;31mAttributeError\u001b[0m                            Traceback (most recent call last)",
      "Cell \u001b[0;32mIn[5], line 1\u001b[0m\n\u001b[0;32m----> 1\u001b[0m train_loader, test_loader \u001b[38;5;241m=\u001b[39m get_celebA_dataloader(path, train_config)\n",
      "File \u001b[0;32m~/LeakPro/examples/mia/celebA/utils/celebA_data_preparation.py:96\u001b[0m, in \u001b[0;36mget_celebA_dataloader\u001b[0;34m(data_path, train_config)\u001b[0m\n\u001b[1;32m     92\u001b[0m batch_size \u001b[38;5;241m=\u001b[39m train_config[\u001b[38;5;124m\"\u001b[39m\u001b[38;5;124mtrain\u001b[39m\u001b[38;5;124m\"\u001b[39m][\u001b[38;5;124m\"\u001b[39m\u001b[38;5;124mbatch_size\u001b[39m\u001b[38;5;124m\"\u001b[39m]\n\u001b[1;32m     94\u001b[0m transform \u001b[38;5;241m=\u001b[39mCompose([ToTensor(),Normalize((\u001b[38;5;241m0.5\u001b[39m, \u001b[38;5;241m0.5\u001b[39m, \u001b[38;5;241m0.5\u001b[39m), (\u001b[38;5;241m0.5\u001b[39m, \u001b[38;5;241m0.5\u001b[39m, \u001b[38;5;241m0.5\u001b[39m))])\n\u001b[0;32m---> 96\u001b[0m population_dataset \u001b[38;5;241m=\u001b[39m celebADataset\u001b[38;5;241m.\u001b[39mfrom_celebA(config\u001b[38;5;241m=\u001b[39mtrain_config, download\u001b[38;5;241m=\u001b[39m\u001b[38;5;28;01mTrue\u001b[39;00m, transform\u001b[38;5;241m=\u001b[39mtransform)\n\u001b[1;32m     98\u001b[0m file_path \u001b[38;5;241m=\u001b[39m  \u001b[38;5;124m\"\u001b[39m\u001b[38;5;124mdata/celebA.pkl\u001b[39m\u001b[38;5;124m\"\u001b[39m\n\u001b[1;32m     99\u001b[0m \u001b[38;5;28;01mif\u001b[39;00m \u001b[38;5;129;01mnot\u001b[39;00m os\u001b[38;5;241m.\u001b[39mpath\u001b[38;5;241m.\u001b[39mexists(file_path):\n",
      "File \u001b[0;32m~/LeakPro/examples/mia/celebA/utils/celebA_data_preparation.py:73\u001b[0m, in \u001b[0;36mcelebADataset.from_celebA\u001b[0;34m(cls, config, download, transform)\u001b[0m\n\u001b[1;32m     68\u001b[0m         \u001b[38;5;28;01mraise\u001b[39;00m  \u001b[38;5;66;03m# Re-raise the exception if it's not an MD5 checksum error\u001b[39;00m\n\u001b[1;32m     71\u001b[0m \u001b[38;5;66;03m# Extract the data and targets\u001b[39;00m\n\u001b[1;32m     72\u001b[0m \u001b[38;5;66;03m# CelebA provides a PIL image directly with the attributes as targets\u001b[39;00m\n\u001b[0;32m---> 73\u001b[0m data \u001b[38;5;241m=\u001b[39m tensor([transform(img)\u001b[38;5;241m.\u001b[39mnumpy() \u001b[38;5;28;01mfor\u001b[39;00m img \u001b[38;5;129;01min\u001b[39;00m celebA_dataset\u001b[38;5;241m.\u001b[39mdata], dtype\u001b[38;5;241m=\u001b[39mfloat32)\n\u001b[1;32m     74\u001b[0m targets \u001b[38;5;241m=\u001b[39m tensor(celebA_dataset\u001b[38;5;241m.\u001b[39mattr, dtype\u001b[38;5;241m=\u001b[39mfloat32)\n\u001b[1;32m     76\u001b[0m \u001b[38;5;66;03m# Rescale the data if needed (optional, typically not necessary for CelebA with transformations applied)\u001b[39;00m\n",
      "\u001b[0;31mAttributeError\u001b[0m: 'CelebA' object has no attribute 'data'"
     ]
    }
   ],
   "source": [
    "train_loader, test_loader = get_celebA_dataloader(path, train_config)"
   ]
  },
  {
   "cell_type": "markdown",
   "metadata": {},
   "source": []
  },
  {
   "cell_type": "markdown",
   "metadata": {},
   "source": []
  }
 ],
 "metadata": {
  "kernelspec": {
   "display_name": "leakpro_test",
   "language": "python",
   "name": "python3"
  },
  "language_info": {
   "codemirror_mode": {
    "name": "ipython",
    "version": 3
   },
   "file_extension": ".py",
   "mimetype": "text/x-python",
   "name": "python",
   "nbconvert_exporter": "python",
   "pygments_lexer": "ipython3",
   "version": "3.12.2"
  }
 },
 "nbformat": 4,
 "nbformat_minor": 2
}
