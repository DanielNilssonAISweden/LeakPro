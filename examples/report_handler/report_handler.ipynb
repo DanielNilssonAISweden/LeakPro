{
 "cells": [
  {
   "cell_type": "markdown",
   "id": "95d5acad-514e-4950-94a0-c80d789d9364",
   "metadata": {},
   "source": [
    "# Report handler examples"
   ]
  },
  {
   "cell_type": "markdown",
   "id": "71f5dbe9",
   "metadata": {},
   "source": [
    "Install leakpro as ``` pip install -e /path/to/leakpro ```"
   ]
  },
  {
   "cell_type": "markdown",
   "id": "68b48ce8",
   "metadata": {},
   "source": [
    "### Synthetic examples"
   ]
  },
  {
   "cell_type": "code",
   "execution_count": 1,
   "id": "bcf529c7-8bfe-49da-9889-59111ec2cd73",
   "metadata": {},
   "outputs": [],
   "source": [
    "import os\n",
    "import sys\n",
    "\n",
    "import pandas as pd\n",
    "\n",
    "sys.path.append(\"../..\")\n",
    "\n",
    "from leakpro.synthetic_data_attacks.anomalies import return_anomalies\n",
    "from leakpro.synthetic_data_attacks.inference_utils import inference_risk_evaluation\n",
    "from leakpro.synthetic_data_attacks.linkability_utils import linkability_risk_evaluation\n",
    "from leakpro.synthetic_data_attacks.singling_out_utils import singling_out_risk_evaluation\n",
    "\n",
    "#Get ori and syn\n",
    "n_samples = 100\n",
    "DATA_PATH = \"../synthetic_data/datasets/\"\n",
    "ori = pd.read_csv(os.path.join(DATA_PATH, \"adults_ori.csv\"), nrows=n_samples)\n",
    "syn = pd.read_csv(os.path.join(DATA_PATH, \"adults_syn.csv\"), nrows=n_samples)"
   ]
  },
  {
   "cell_type": "code",
   "execution_count": 2,
   "id": "c89f3738",
   "metadata": {},
   "outputs": [
    {
     "name": "stderr",
     "output_type": "stream",
     "text": [
      "[Parallel(n_jobs=64)]: Using backend ThreadingBackend with 64 concurrent workers.\n",
      "[Parallel(n_jobs=64)]: Done   2 out of  64 | elapsed:    1.2s remaining:   36.4s\n",
      "[Parallel(n_jobs=64)]: Done  64 out of  64 | elapsed:    4.4s finished\n"
     ]
    },
    {
     "name": "stdout",
     "output_type": "stream",
     "text": [
      "Unique predictions (array([-1,  1]), array([ 3, 97]))\n",
      "Syn anom shape (3, 14)\n"
     ]
    }
   ],
   "source": [
    "syn_anom = return_anomalies(df=syn, n_estimators=1000, n_jobs=-1, verbose=True)\n",
    "print(\"Syn anom shape\",syn_anom.shape)"
   ]
  },
  {
   "cell_type": "code",
   "execution_count": 3,
   "id": "ad69ece9",
   "metadata": {},
   "outputs": [],
   "source": [
    "# Create a singling-out result\n",
    "sin_out_res = singling_out_risk_evaluation(\n",
    "    dataset = \"adults\",\n",
    "    ori = ori,\n",
    "    syn = syn_anom,\n",
    "    n_attacks = syn_anom.shape[0]\n",
    ")"
   ]
  },
  {
   "cell_type": "code",
   "execution_count": 4,
   "id": "7d7ffb5a",
   "metadata": {},
   "outputs": [],
   "source": [
    "# Create linkability result\n",
    "link_res = linkability_risk_evaluation(\n",
    "    dataset = \"adults\",\n",
    "    ori = ori,\n",
    "    syn = syn_anom,\n",
    "    n_samples = syn_anom.shape[0],\n",
    "    n_attacks = 100\n",
    ")"
   ]
  },
  {
   "cell_type": "code",
   "execution_count": 5,
   "id": "0a5c20e2",
   "metadata": {},
   "outputs": [],
   "source": [
    "# # Create base-case inference result\n",
    "inf_res = inference_risk_evaluation(\n",
    "    dataset = \"adults\",\n",
    "    ori = ori,\n",
    "    syn = syn_anom,\n",
    "    worst_case_flag = False,\n",
    "    n_attacks = syn_anom.shape[0]\n",
    ")\n",
    "\n",
    "# # Create worst-case inference result\n",
    "inf_res_worst = inference_risk_evaluation(\n",
    "    dataset = \"adults\",\n",
    "    ori = ori,\n",
    "    syn = syn_anom,\n",
    "    worst_case_flag = True,\n",
    "    n_attacks = syn_anom.shape[0]\n",
    ")"
   ]
  },
  {
   "cell_type": "markdown",
   "id": "0b3be474",
   "metadata": {},
   "source": [
    "### Gradient inversion example"
   ]
  },
  {
   "cell_type": "code",
   "execution_count": null,
   "id": "35aee5a3",
   "metadata": {},
   "outputs": [
    {
     "name": "stdout",
     "output_type": "stream",
     "text": [
      "Files already downloaded and verified\n"
     ]
    },
    {
     "name": "stderr",
     "output_type": "stream",
     "text": [
      "2024-12-05 10:20:59,883 INFO     Inverting gradient initialized.\n",
      "2024-12-05 10:21:01,974 INFO     Iteration 0, loss 0.00037895439891144633\n",
      "2024-12-05 10:21:01,981 INFO     New best loss: 0.00037895439891144633 on round: 0\n",
      "2024-12-05 10:21:02,261 INFO     New best loss: 0.00036255631130188704 on round: 2\n",
      "2024-12-05 10:21:02,527 INFO     New best loss: 0.0003450227959547192 on round: 4\n",
      "2024-12-05 10:21:02,669 INFO     New best loss: 0.00032889979775063694 on round: 5\n",
      "2024-12-05 10:21:02,807 INFO     New best loss: 0.00031025282805785537 on round: 6\n",
      "2024-12-05 10:21:03,075 INFO     New best loss: 0.00029653109959326684 on round: 8\n",
      "2024-12-05 10:21:03,212 INFO     New best loss: 0.00029343905043788254 on round: 9\n",
      "2024-12-05 10:21:03,357 INFO     New best loss: 0.0002867175207938999 on round: 10\n",
      "2024-12-05 10:21:03,482 INFO     New best loss: 0.0002853123296517879 on round: 11\n",
      "2024-12-05 10:21:03,607 INFO     New best loss: 0.00027869627228938043 on round: 12\n",
      "2024-12-05 10:21:03,735 INFO     New best loss: 0.0002784693206194788 on round: 13\n",
      "2024-12-05 10:21:04,092 INFO     New best loss: 0.00027562331524677575 on round: 14\n",
      "2024-12-05 10:21:05,240 INFO     New best loss: 0.0002711182169150561 on round: 23\n",
      "2024-12-05 10:21:05,367 INFO     New best loss: 0.00026883225655183196 on round: 24\n",
      "2024-12-05 10:21:05,622 INFO     New best loss: 0.0002568941272329539 on round: 26\n",
      "2024-12-05 10:21:05,748 INFO     New best loss: 0.0002561017172411084 on round: 27\n",
      "2024-12-05 10:21:05,876 INFO     New best loss: 0.0002496801607776433 on round: 28\n",
      "2024-12-05 10:21:06,517 INFO     New best loss: 0.0002473248168826103 on round: 33\n",
      "2024-12-05 10:21:06,648 INFO     New best loss: 0.0002469118044245988 on round: 34\n",
      "2024-12-05 10:21:07,403 INFO     New best loss: 0.00024639995535835624 on round: 40\n",
      "2024-12-05 10:21:07,532 INFO     New best loss: 0.000243801434407942 on round: 41\n",
      "2024-12-05 10:21:07,670 INFO     New best loss: 0.0002417033538222313 on round: 42\n",
      "2024-12-05 10:21:07,803 INFO     New best loss: 0.0002388415450695902 on round: 43\n",
      "2024-12-05 10:21:07,924 INFO     New best loss: 0.00023807109391782433 on round: 44\n",
      "2024-12-05 10:21:08,178 INFO     New best loss: 0.00023767446691635996 on round: 46\n",
      "2024-12-05 10:21:08,302 INFO     New best loss: 0.0002361331571592018 on round: 47\n",
      "2024-12-05 10:21:08,427 INFO     New best loss: 0.00023581282584927976 on round: 48\n",
      "2024-12-05 10:21:09,189 INFO     New best loss: 0.0002355617325520143 on round: 54\n",
      "2024-12-05 10:21:09,321 INFO     New best loss: 0.00023450757726095617 on round: 55\n",
      "2024-12-05 10:21:09,447 INFO     New best loss: 0.0002343545202165842 on round: 56\n",
      "2024-12-05 10:21:09,702 INFO     New best loss: 0.0002338749181944877 on round: 58\n",
      "2024-12-05 10:21:10,466 INFO     New best loss: 0.00023371708812192082 on round: 64\n",
      "2024-12-05 10:21:10,595 INFO     New best loss: 0.00023358875478152186 on round: 65\n",
      "/opt/conda/lib/python3.10/site-packages/torchmetrics/utilities/prints.py:70: FutureWarning: Importing `peak_signal_noise_ratio` from `torchmetrics.functional` was deprecated and will be removed in 2.0. Import `peak_signal_noise_ratio` from `torchmetrics.image` instead.\n",
      "  _future_warning(\n"
     ]
    }
   ],
   "source": [
    "from gia_utils.cifar import get_cifar10_loader\n",
    "from gia_utils.model import ResNet\n",
    "from torchvision.models.resnet import BasicBlock\n",
    "\n",
    "from leakpro.attacks.gia_attacks.invertinggradients import InvertingConfig\n",
    "from leakpro.fl_utils.gia_train import train\n",
    "from leakpro.run import run_inverting\n",
    "\n",
    "model = ResNet(BasicBlock, [5, 5, 5], num_classes=10, base_width=16 * 10)\n",
    "client_dataloader, data_mean, data_std = get_cifar10_loader(num_images=1, batch_size=1, num_workers=2)\n",
    "\n",
    "# Meta train function designed to work with GIA\n",
    "train_fn = train\n",
    "\n",
    "# Baseline config\n",
    "configs = InvertingConfig()\n",
    "configs.at_iterations = 80 # Decreased from 8000 to avoid GPU memory crash\n",
    "\n",
    "GIA_result = run_inverting(model, client_dataloader, train_fn, data_mean, data_std, configs, save=False)"
   ]
  },
  {
   "cell_type": "markdown",
   "id": "645e8caa",
   "metadata": {},
   "source": [
    "### Membership Inference Attack, CIFAR example"
   ]
  },
  {
   "cell_type": "code",
   "execution_count": 7,
   "id": "d38d6aa1",
   "metadata": {},
   "outputs": [],
   "source": [
    "import os\n",
    "import sys\n",
    "import yaml\n",
    "\n",
    "project_root = os.path.abspath(os.path.join(os.getcwd(), \"../../..\"))\n",
    "sys.path.append(project_root)"
   ]
  },
  {
   "cell_type": "code",
   "execution_count": 8,
   "id": "a45a0d6b",
   "metadata": {},
   "outputs": [
    {
     "name": "stdout",
     "output_type": "stream",
     "text": [
      "Files already downloaded and verified\n",
      "Files already downloaded and verified\n"
     ]
    }
   ],
   "source": [
    "from mia_utils.utils.cifar_data_preparation import get_cifar_dataloader\n",
    "from mia_utils.utils.cifar_model_preparation import ResNet18, create_trained_model_and_metadata\n",
    "\n",
    "\n",
    "# Load the config.yaml file\n",
    "with open('mia_utils/train_config.yaml', 'r') as file:\n",
    "    train_config = yaml.safe_load(file)\n",
    "\n",
    "# Generate the dataset and dataloaders\n",
    "path = os.path.join(os.getcwd(), train_config[\"data\"][\"data_dir\"])\n",
    "\n",
    "train_loader, test_loader = get_cifar_dataloader(path, train_config)"
   ]
  },
  {
   "cell_type": "code",
   "execution_count": 9,
   "id": "4cda80cf",
   "metadata": {},
   "outputs": [
    {
     "name": "stderr",
     "output_type": "stream",
     "text": [
      "/opt/conda/lib/python3.10/site-packages/torchvision/models/_utils.py:208: UserWarning: The parameter 'pretrained' is deprecated since 0.13 and may be removed in the future, please use 'weights' instead.\n",
      "  warnings.warn(\n",
      "/opt/conda/lib/python3.10/site-packages/torchvision/models/_utils.py:223: UserWarning: Arguments other than a weight enum or `None` for 'weights' are deprecated since 0.13 and may be removed in the future. The current behavior is equivalent to passing `weights=None`.\n",
      "  warnings.warn(msg)\n",
      "Training Progress: 100%|██████████| 3/3 [00:13<00:00,  4.39s/it]\n"
     ]
    }
   ],
   "source": [
    "# Train the model\n",
    "if not os.path.exists(\"target\"):\n",
    "    os.makedirs(\"target\")\n",
    "if train_config[\"data\"][\"dataset\"] == \"cifar10\":\n",
    "    num_classes = 10\n",
    "elif train_config[\"data\"][\"dataset\"] == \"cifar100\":\n",
    "    num_classes = 100\n",
    "else:\n",
    "    raise ValueError(\"Invalid dataset name\")\n",
    "\n",
    "model = ResNet18(num_classes = num_classes)\n",
    "train_acc, train_loss, test_acc, test_loss = create_trained_model_and_metadata(model, \n",
    "                                                                               train_loader, \n",
    "                                                                               test_loader, \n",
    "                                                                               train_config)"
   ]
  },
  {
   "cell_type": "markdown",
   "id": "0872bf51",
   "metadata": {},
   "source": [
    "##### Run the MIA attack"
   ]
  },
  {
   "cell_type": "code",
   "execution_count": 10,
   "id": "f28eb14f",
   "metadata": {},
   "outputs": [
    {
     "name": "stderr",
     "output_type": "stream",
     "text": [
      "2024-11-27 08:38:27,995 INFO     Target model blueprint created from ResNet18 in ./mia_utils/utils/cifar_model_preparation.py.\n",
      "2024-11-27 08:38:27,997 INFO     Loaded target model metadata from ./target/model_metadata.pkl\n"
     ]
    },
    {
     "name": "stdout",
     "output_type": "stream",
     "text": [
      "{'audit': {'random_seed': 1234, 'attack_list': {'population': {'attack_data_fraction': 1.0}}, 'output_dir': './leakpro_output', 'attack_type': 'mia', 'modality': 'image'}, 'target': {'module_path': './mia_utils/utils/cifar_model_preparation.py', 'model_class': 'ResNet18', 'target_folder': './target', 'data_path': './data/cifar10.pkl'}, 'shadow_model': None, 'distillation_model': None}\n"
     ]
    },
    {
     "name": "stderr",
     "output_type": "stream",
     "text": [
      "2024-11-27 08:38:28,210 INFO     Loaded target model from ./target\n",
      "2024-11-27 08:38:29,306 INFO     Loaded population dataset from ./data/cifar10.pkl\n",
      "2024-11-27 08:38:29,306 INFO     Loaded population dataset from ./data/cifar10.pkl\n",
      "2024-11-27 08:38:29,307 INFO     Creating shadow model handler singleton\n",
      "2024-11-27 08:38:29,308 INFO     Creating distillation model handler singleton\n",
      "2024-11-27 08:38:29,310 INFO     Configuring the Population attack\n",
      "2024-11-27 08:38:29,310 INFO     Added attack: population\n",
      "2024-11-27 08:38:29,311 INFO     Preparing attack: population\n",
      "2024-11-27 08:38:29,312 INFO     Preparing attack data for training the Population attack\n",
      "2024-11-27 08:38:29,316 INFO     Subsampling attack data from 24000 points\n",
      "2024-11-27 08:38:29,317 INFO     Number of attack data points after subsampling: 24000\n",
      "2024-11-27 08:38:29,318 INFO     Computing signals for the Population attack\n",
      "Getting loss for model 1/ 1: 100%|██████████| 750/750 [00:12<00:00, 62.27it/s]\n",
      "2024-11-27 08:38:41,410 INFO     Running attack: population\n",
      "2024-11-27 08:38:41,415 INFO     Running the Population attack on the target model\n",
      "Getting loss for model 1/ 1: 100%|██████████| 1125/1125 [00:18<00:00, 62.04it/s]\n",
      "2024-11-27 08:38:59,662 INFO     Attack completed\n",
      "2024-11-27 08:38:59,674 INFO     Finished attack: population\n",
      "2024-11-27 08:38:59,675 INFO     Preparing results for attack: population\n",
      "2024-11-27 08:38:59,675 INFO     Auditing completed\n"
     ]
    }
   ],
   "source": [
    "from mia_utils.cifar_handler import CifarInputHandler\n",
    "\n",
    "from leakpro import LeakPro\n",
    "\n",
    "# Read the config file\n",
    "config_path = \"mia_utils/audit.yaml\"\n",
    "\n",
    "# Prepare leakpro object\n",
    "leakpro = LeakPro(CifarInputHandler, config_path)\n",
    "\n",
    "# Run the audit \n",
    "mia_results = leakpro.run_audit(return_results=True)"
   ]
  },
  {
   "cell_type": "code",
   "execution_count": 11,
   "id": "373dcc8a",
   "metadata": {},
   "outputs": [
    {
     "name": "stderr",
     "output_type": "stream",
     "text": [
      "2024-11-27 08:38:59,693 INFO     Initializing report handler...\n",
      "2024-11-27 08:38:59,693 INFO     report_dir set to: ../../leakpro_output/results\n",
      "2024-11-27 08:38:59,694 INFO     Saving results for singling_out\n",
      "2024-11-27 08:39:01,779 INFO     Saving results for linkability_risk\n",
      "2024-11-27 08:39:03,748 INFO     Saving results for inference_risk_base\n",
      "2024-11-27 08:39:08,623 INFO     Saving results for inference_risk_worst\n",
      "2024-11-27 08:39:10,925 INFO     Saving results for gia\n",
      "2024-11-27 08:39:10,939 INFO     Saving results for population\n"
     ]
    },
    {
     "data": {
      "text/plain": [
       "<Figure size 3300x1200 with 0 Axes>"
      ]
     },
     "metadata": {},
     "output_type": "display_data"
    },
    {
     "data": {
      "text/plain": [
       "<Figure size 3300x1200 with 0 Axes>"
      ]
     },
     "metadata": {},
     "output_type": "display_data"
    },
    {
     "data": {
      "text/plain": [
       "<Figure size 3300x2100 with 0 Axes>"
      ]
     },
     "metadata": {},
     "output_type": "display_data"
    },
    {
     "data": {
      "text/plain": [
       "<Figure size 3300x1200 with 0 Axes>"
      ]
     },
     "metadata": {},
     "output_type": "display_data"
    }
   ],
   "source": [
    "import sys\n",
    "sys.path.append(\"../..\")\n",
    "\n",
    "# Import and initialize ReportHandler\n",
    "from leakpro.reporting.report_handler import ReportHandler\n",
    "report_handler = ReportHandler()\n",
    "\n",
    "# # Save Synthetic results using the ReportHandler\n",
    "report_handler.save_results(attack_name=\"singling_out\", result_data=sin_out_res)\n",
    "report_handler.save_results(attack_name=\"linkability_risk\", result_data=link_res)\n",
    "report_handler.save_results(attack_name=\"inference_risk_base\", result_data=inf_res)\n",
    "report_handler.save_results(attack_name=\"inference_risk_worst\", result_data=inf_res_worst)\n",
    "\n",
    "# # Save GIA results using report handler\n",
    "report_handler.save_results(attack_name=\"gia\", result_data=GIA_result)\n",
    "\n",
    "# Save MIA resuls using report handler\n",
    "for res in mia_results:\n",
    "    report_handler.save_results(attack_name=res.attack_name, result_data=res, config=res.configs)"
   ]
  },
  {
   "cell_type": "code",
   "execution_count": 12,
   "id": "1d91c7e0",
   "metadata": {},
   "outputs": [
    {
     "name": "stderr",
     "output_type": "stream",
     "text": [
      "2024-11-27 08:40:04,818 INFO     PDF compiled\n"
     ]
    },
    {
     "data": {
      "text/plain": [
       "<Figure size 1920x1440 with 0 Axes>"
      ]
     },
     "metadata": {},
     "output_type": "display_data"
    },
    {
     "data": {
      "text/plain": [
       "<Figure size 3300x1200 with 0 Axes>"
      ]
     },
     "metadata": {},
     "output_type": "display_data"
    },
    {
     "data": {
      "text/plain": [
       "<Figure size 3300x2100 with 0 Axes>"
      ]
     },
     "metadata": {},
     "output_type": "display_data"
    },
    {
     "data": {
      "text/plain": [
       "<Figure size 3300x2100 with 0 Axes>"
      ]
     },
     "metadata": {},
     "output_type": "display_data"
    },
    {
     "data": {
      "text/plain": [
       "<Figure size 3300x1200 with 0 Axes>"
      ]
     },
     "metadata": {},
     "output_type": "display_data"
    }
   ],
   "source": [
    "# Use the ReportHandler and load all the saved results\n",
    "report_handler.load_results()\n",
    "\n",
    "# Create results and collect corresponding latex texts\n",
    "report_handler.create_results_all()\n",
    "\n",
    "# Create the report by compiling the latex text\n",
    "report_handler.create_report()"
   ]
  }
 ],
 "metadata": {
  "kernelspec": {
   "display_name": "base",
   "language": "python",
   "name": "python3"
  },
  "language_info": {
   "codemirror_mode": {
    "name": "ipython",
    "version": 3
   },
   "file_extension": ".py",
   "mimetype": "text/x-python",
   "name": "python",
   "nbconvert_exporter": "python",
   "pygments_lexer": "ipython3",
   "version": "3.10.13"
  }
 },
 "nbformat": 4,
 "nbformat_minor": 5
}
