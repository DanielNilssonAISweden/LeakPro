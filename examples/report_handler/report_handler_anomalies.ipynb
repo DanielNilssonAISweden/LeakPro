{
 "cells": [
  {
   "cell_type": "markdown",
   "id": "95d5acad-514e-4950-94a0-c80d789d9364",
   "metadata": {},
   "source": [
    "# Report handler examples"
   ]
  },
  {
   "cell_type": "markdown",
   "id": "71f5dbe9",
   "metadata": {},
   "source": [
    "Install leakpro as ``` pip install -e /path/to/leakpro ```"
   ]
  },
  {
   "cell_type": "markdown",
   "id": "68b48ce8",
   "metadata": {},
   "source": [
    "### Synthetic examples"
   ]
  },
  {
   "cell_type": "code",
   "execution_count": 1,
   "id": "bcf529c7-8bfe-49da-9889-59111ec2cd73",
   "metadata": {},
   "outputs": [],
   "source": [
    "import os\n",
    "import sys\n",
    "\n",
    "import pandas as pd\n",
    "\n",
    "sys.path.append(\"../..\")\n",
    "\n",
    "from leakpro.synthetic_data_attacks import plots\n",
    "from leakpro.synthetic_data_attacks.anomalies import return_anomalies\n",
    "from leakpro.synthetic_data_attacks.inference_utils import inference_risk_evaluation\n",
    "from leakpro.synthetic_data_attacks.linkability_utils import linkability_risk_evaluation\n",
    "from leakpro.synthetic_data_attacks.singling_out_utils import singling_out_risk_evaluation\n",
    "# from leakpro.metrics.attack_result import SyntheticResult\n",
    "\n",
    "#Get ori and syn\n",
    "n_samples = 100\n",
    "DATA_PATH = \"../synthetic_data/datasets/\"\n",
    "ori = pd.read_csv(os.path.join(DATA_PATH, \"adults_ori.csv\"), nrows=n_samples)\n",
    "syn = pd.read_csv(os.path.join(DATA_PATH, \"adults_syn.csv\"), nrows=n_samples)"
   ]
  },
  {
   "cell_type": "markdown",
   "id": "62c44504-a5fa-4846-8132-53877f369825",
   "metadata": {},
   "source": [
    "### Get anomalies of synthetic data"
   ]
  },
  {
   "cell_type": "code",
   "execution_count": null,
   "id": "ad69ece9",
   "metadata": {},
   "outputs": [],
   "source": [
    "# Create a result\n",
    "\n",
    "syn_anom = return_anomalies(df=syn, n_estimators=1000, n_jobs=-1, verbose=True)\n",
    "print(\"Syn anom shape\",syn_anom.shape)\n",
    "\n",
    "sin_out_res = singling_out_risk_evaluation(\n",
    "    dataset = \"adults\",\n",
    "    ori = ori,\n",
    "    syn = syn_anom,\n",
    "    n_attacks = syn_anom.shape[0]\n",
    ")"
   ]
  },
  {
   "cell_type": "code",
   "execution_count": null,
   "id": "373dcc8a",
   "metadata": {},
   "outputs": [
    {
     "name": "stderr",
     "output_type": "stream",
     "text": [
      "2024-11-20 00:09:42,566 INFO     Initializing report handler...\n",
      "2024-11-20 00:09:42,567 INFO     report_dir set to: ../../leakpro_output/results\n",
      "2024-11-20 00:09:42,569 INFO     Saving results for singling_out\n"
     ]
    },
    {
     "name": "stdout",
     "output_type": "stream",
     "text": [
      "../../leakpro_output/results\n"
     ]
    },
    {
     "data": {
      "text/plain": [
       "<Figure size 3300x1200 with 0 Axes>"
      ]
     },
     "metadata": {},
     "output_type": "display_data"
    }
   ],
   "source": [
    "# Import and initialize ReportHandler\n",
    "from leakpro.reporting.report_handler import ReportHandler\n",
    "report_handler = ReportHandler()\n",
    "\n",
    "# Save the result using the ReportHandler\n",
    "report_handler.save_results(attack_name=\"singling_out\", result_data=sin_out_res)"
   ]
  },
  {
   "cell_type": "code",
   "execution_count": null,
   "id": "1d91c7e0",
   "metadata": {},
   "outputs": [
    {
     "name": "stderr",
     "output_type": "stream",
     "text": [
      "2024-11-19 23:38:04,520 INFO     No results of type GIAResults found.\n"
     ]
    },
    {
     "name": "stdout",
     "output_type": "stream",
     "text": [
      "../../leakpro_output/results\n"
     ]
    },
    {
     "name": "stderr",
     "output_type": "stream",
     "text": [
      "2024-11-19 23:38:14,966 INFO     PDF compiled\n"
     ]
    },
    {
     "data": {
      "text/plain": [
       "<Figure size 640x480 with 0 Axes>"
      ]
     },
     "metadata": {},
     "output_type": "display_data"
    },
    {
     "data": {
      "text/plain": [
       "<Figure size 1100x400 with 0 Axes>"
      ]
     },
     "metadata": {},
     "output_type": "display_data"
    }
   ],
   "source": [
    "# Use the ReportHandler and load all the saved results\n",
    "report_handler.load_results()\n",
    "\n",
    "# Create results and collect corresponding latex texts\n",
    "report_handler.create_results_all()\n",
    "\n",
    "# Create the report by compiling the latex text\n",
    "report_handler.create_report()"
   ]
  }
 ],
 "metadata": {
  "kernelspec": {
   "display_name": "base",
   "language": "python",
   "name": "python3"
  },
  "language_info": {
   "codemirror_mode": {
    "name": "ipython",
    "version": 3
   },
   "file_extension": ".py",
   "mimetype": "text/x-python",
   "name": "python",
   "nbconvert_exporter": "python",
   "pygments_lexer": "ipython3",
   "version": "3.10.13"
  }
 },
 "nbformat": 4,
 "nbformat_minor": 5
}
